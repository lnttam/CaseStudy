{
 "cells": [
  {
   "cell_type": "code",
   "execution_count": 83,
   "id": "ed654d51",
   "metadata": {},
   "outputs": [],
   "source": [
    "import pandas as pd \n",
    "import numpy as np\n",
    "import matplotlib.pyplot as plt\n",
    "import seaborn as sns\n",
    "from scipy.stats import pearsonr,chisquare,spearmanr\n",
    "import scipy\n",
    "from sklearn.model_selection import train_test_split \n",
    "from sklearn.linear_model import LinearRegression\n",
    "from sklearn.preprocessing import LabelEncoder\n",
    "import sklearn.metrics as metrics\n",
    "from sklearn.metrics import r2_score\n",
    "from pprint import pprint\n",
    "from sklearn.preprocessing import StandardScaler\n",
    "from scipy import stats"
   ]
  },
  {
   "cell_type": "code",
   "execution_count": 84,
   "id": "4caee61c",
   "metadata": {},
   "outputs": [],
   "source": [
    "from sklearn.preprocessing import LabelEncoder\n",
    "encoder = LabelEncoder()"
   ]
  },
  {
   "cell_type": "code",
   "execution_count": 85,
   "id": "464dec24",
   "metadata": {
    "scrolled": true
   },
   "outputs": [
    {
     "data": {
      "text/html": [
       "<div>\n",
       "<style scoped>\n",
       "    .dataframe tbody tr th:only-of-type {\n",
       "        vertical-align: middle;\n",
       "    }\n",
       "\n",
       "    .dataframe tbody tr th {\n",
       "        vertical-align: top;\n",
       "    }\n",
       "\n",
       "    .dataframe thead th {\n",
       "        text-align: right;\n",
       "    }\n",
       "</style>\n",
       "<table border=\"1\" class=\"dataframe\">\n",
       "  <thead>\n",
       "    <tr style=\"text-align: right;\">\n",
       "      <th></th>\n",
       "      <th>car_ID</th>\n",
       "      <th>symboling</th>\n",
       "      <th>CarName</th>\n",
       "      <th>fueltype</th>\n",
       "      <th>aspiration</th>\n",
       "      <th>doornumber</th>\n",
       "      <th>carbody</th>\n",
       "      <th>drivewheel</th>\n",
       "      <th>enginelocation</th>\n",
       "      <th>wheelbase</th>\n",
       "      <th>...</th>\n",
       "      <th>enginesize</th>\n",
       "      <th>fuelsystem</th>\n",
       "      <th>boreratio</th>\n",
       "      <th>stroke</th>\n",
       "      <th>compressionratio</th>\n",
       "      <th>horsepower</th>\n",
       "      <th>peakrpm</th>\n",
       "      <th>citympg</th>\n",
       "      <th>highwaympg</th>\n",
       "      <th>price</th>\n",
       "    </tr>\n",
       "  </thead>\n",
       "  <tbody>\n",
       "    <tr>\n",
       "      <th>0</th>\n",
       "      <td>1</td>\n",
       "      <td>3</td>\n",
       "      <td>alfa-romero giulia</td>\n",
       "      <td>gas</td>\n",
       "      <td>std</td>\n",
       "      <td>two</td>\n",
       "      <td>convertible</td>\n",
       "      <td>rwd</td>\n",
       "      <td>front</td>\n",
       "      <td>88.6</td>\n",
       "      <td>...</td>\n",
       "      <td>130</td>\n",
       "      <td>mpfi</td>\n",
       "      <td>3.47</td>\n",
       "      <td>2.68</td>\n",
       "      <td>9.0</td>\n",
       "      <td>111</td>\n",
       "      <td>5000</td>\n",
       "      <td>21</td>\n",
       "      <td>27</td>\n",
       "      <td>13495.0</td>\n",
       "    </tr>\n",
       "    <tr>\n",
       "      <th>1</th>\n",
       "      <td>2</td>\n",
       "      <td>3</td>\n",
       "      <td>alfa-romero stelvio</td>\n",
       "      <td>gas</td>\n",
       "      <td>std</td>\n",
       "      <td>two</td>\n",
       "      <td>convertible</td>\n",
       "      <td>rwd</td>\n",
       "      <td>front</td>\n",
       "      <td>88.6</td>\n",
       "      <td>...</td>\n",
       "      <td>130</td>\n",
       "      <td>mpfi</td>\n",
       "      <td>3.47</td>\n",
       "      <td>2.68</td>\n",
       "      <td>9.0</td>\n",
       "      <td>111</td>\n",
       "      <td>5000</td>\n",
       "      <td>21</td>\n",
       "      <td>27</td>\n",
       "      <td>16500.0</td>\n",
       "    </tr>\n",
       "    <tr>\n",
       "      <th>2</th>\n",
       "      <td>3</td>\n",
       "      <td>1</td>\n",
       "      <td>alfa-romero Quadrifoglio</td>\n",
       "      <td>gas</td>\n",
       "      <td>std</td>\n",
       "      <td>two</td>\n",
       "      <td>hatchback</td>\n",
       "      <td>rwd</td>\n",
       "      <td>front</td>\n",
       "      <td>94.5</td>\n",
       "      <td>...</td>\n",
       "      <td>152</td>\n",
       "      <td>mpfi</td>\n",
       "      <td>2.68</td>\n",
       "      <td>3.47</td>\n",
       "      <td>9.0</td>\n",
       "      <td>154</td>\n",
       "      <td>5000</td>\n",
       "      <td>19</td>\n",
       "      <td>26</td>\n",
       "      <td>16500.0</td>\n",
       "    </tr>\n",
       "    <tr>\n",
       "      <th>3</th>\n",
       "      <td>4</td>\n",
       "      <td>2</td>\n",
       "      <td>audi 100 ls</td>\n",
       "      <td>gas</td>\n",
       "      <td>std</td>\n",
       "      <td>four</td>\n",
       "      <td>sedan</td>\n",
       "      <td>fwd</td>\n",
       "      <td>front</td>\n",
       "      <td>99.8</td>\n",
       "      <td>...</td>\n",
       "      <td>109</td>\n",
       "      <td>mpfi</td>\n",
       "      <td>3.19</td>\n",
       "      <td>3.40</td>\n",
       "      <td>10.0</td>\n",
       "      <td>102</td>\n",
       "      <td>5500</td>\n",
       "      <td>24</td>\n",
       "      <td>30</td>\n",
       "      <td>13950.0</td>\n",
       "    </tr>\n",
       "    <tr>\n",
       "      <th>4</th>\n",
       "      <td>5</td>\n",
       "      <td>2</td>\n",
       "      <td>audi 100ls</td>\n",
       "      <td>gas</td>\n",
       "      <td>std</td>\n",
       "      <td>four</td>\n",
       "      <td>sedan</td>\n",
       "      <td>4wd</td>\n",
       "      <td>front</td>\n",
       "      <td>99.4</td>\n",
       "      <td>...</td>\n",
       "      <td>136</td>\n",
       "      <td>mpfi</td>\n",
       "      <td>3.19</td>\n",
       "      <td>3.40</td>\n",
       "      <td>8.0</td>\n",
       "      <td>115</td>\n",
       "      <td>5500</td>\n",
       "      <td>18</td>\n",
       "      <td>22</td>\n",
       "      <td>17450.0</td>\n",
       "    </tr>\n",
       "  </tbody>\n",
       "</table>\n",
       "<p>5 rows × 26 columns</p>\n",
       "</div>"
      ],
      "text/plain": [
       "   car_ID  symboling                   CarName fueltype aspiration doornumber  \\\n",
       "0       1          3        alfa-romero giulia      gas        std        two   \n",
       "1       2          3       alfa-romero stelvio      gas        std        two   \n",
       "2       3          1  alfa-romero Quadrifoglio      gas        std        two   \n",
       "3       4          2               audi 100 ls      gas        std       four   \n",
       "4       5          2                audi 100ls      gas        std       four   \n",
       "\n",
       "       carbody drivewheel enginelocation  wheelbase  ...  enginesize  \\\n",
       "0  convertible        rwd          front       88.6  ...         130   \n",
       "1  convertible        rwd          front       88.6  ...         130   \n",
       "2    hatchback        rwd          front       94.5  ...         152   \n",
       "3        sedan        fwd          front       99.8  ...         109   \n",
       "4        sedan        4wd          front       99.4  ...         136   \n",
       "\n",
       "   fuelsystem  boreratio  stroke compressionratio horsepower  peakrpm citympg  \\\n",
       "0        mpfi       3.47    2.68              9.0        111     5000      21   \n",
       "1        mpfi       3.47    2.68              9.0        111     5000      21   \n",
       "2        mpfi       2.68    3.47              9.0        154     5000      19   \n",
       "3        mpfi       3.19    3.40             10.0        102     5500      24   \n",
       "4        mpfi       3.19    3.40              8.0        115     5500      18   \n",
       "\n",
       "   highwaympg    price  \n",
       "0          27  13495.0  \n",
       "1          27  16500.0  \n",
       "2          26  16500.0  \n",
       "3          30  13950.0  \n",
       "4          22  17450.0  \n",
       "\n",
       "[5 rows x 26 columns]"
      ]
     },
     "execution_count": 85,
     "metadata": {},
     "output_type": "execute_result"
    }
   ],
   "source": [
    "df = pd.read_csv('Case_study_CarPrice_Assignment.csv')\n",
    "df.head()"
   ]
  },
  {
   "cell_type": "code",
   "execution_count": 86,
   "id": "a984dd71",
   "metadata": {
    "scrolled": true
   },
   "outputs": [
    {
     "data": {
      "text/plain": [
       "(205, 26)"
      ]
     },
     "execution_count": 86,
     "metadata": {},
     "output_type": "execute_result"
    }
   ],
   "source": [
    "df.shape"
   ]
  },
  {
   "cell_type": "code",
   "execution_count": 87,
   "id": "92237b4e",
   "metadata": {},
   "outputs": [
    {
     "name": "stderr",
     "output_type": "stream",
     "text": [
      "C:\\Users\\Admin\\AppData\\Local\\Temp\\ipykernel_25872\\2345002652.py:4: SettingWithCopyWarning: \n",
      "A value is trying to be set on a copy of a slice from a DataFrame\n",
      "\n",
      "See the caveats in the documentation: https://pandas.pydata.org/pandas-docs/stable/user_guide/indexing.html#returning-a-view-versus-a-copy\n",
      "  df['carmaker'][i] = df['CarName'][i].split()[0].lower()\n"
     ]
    },
    {
     "data": {
      "text/html": [
       "<div>\n",
       "<style scoped>\n",
       "    .dataframe tbody tr th:only-of-type {\n",
       "        vertical-align: middle;\n",
       "    }\n",
       "\n",
       "    .dataframe tbody tr th {\n",
       "        vertical-align: top;\n",
       "    }\n",
       "\n",
       "    .dataframe thead th {\n",
       "        text-align: right;\n",
       "    }\n",
       "</style>\n",
       "<table border=\"1\" class=\"dataframe\">\n",
       "  <thead>\n",
       "    <tr style=\"text-align: right;\">\n",
       "      <th></th>\n",
       "      <th>car_ID</th>\n",
       "      <th>symboling</th>\n",
       "      <th>CarName</th>\n",
       "      <th>fueltype</th>\n",
       "      <th>aspiration</th>\n",
       "      <th>doornumber</th>\n",
       "      <th>carbody</th>\n",
       "      <th>drivewheel</th>\n",
       "      <th>enginelocation</th>\n",
       "      <th>wheelbase</th>\n",
       "      <th>...</th>\n",
       "      <th>fuelsystem</th>\n",
       "      <th>boreratio</th>\n",
       "      <th>stroke</th>\n",
       "      <th>compressionratio</th>\n",
       "      <th>horsepower</th>\n",
       "      <th>peakrpm</th>\n",
       "      <th>citympg</th>\n",
       "      <th>highwaympg</th>\n",
       "      <th>price</th>\n",
       "      <th>carmaker</th>\n",
       "    </tr>\n",
       "  </thead>\n",
       "  <tbody>\n",
       "    <tr>\n",
       "      <th>0</th>\n",
       "      <td>1</td>\n",
       "      <td>3</td>\n",
       "      <td>alfa-romero giulia</td>\n",
       "      <td>gas</td>\n",
       "      <td>std</td>\n",
       "      <td>two</td>\n",
       "      <td>convertible</td>\n",
       "      <td>rwd</td>\n",
       "      <td>front</td>\n",
       "      <td>88.6</td>\n",
       "      <td>...</td>\n",
       "      <td>mpfi</td>\n",
       "      <td>3.47</td>\n",
       "      <td>2.68</td>\n",
       "      <td>9.0</td>\n",
       "      <td>111</td>\n",
       "      <td>5000</td>\n",
       "      <td>21</td>\n",
       "      <td>27</td>\n",
       "      <td>13495.0</td>\n",
       "      <td>alfa-romero</td>\n",
       "    </tr>\n",
       "    <tr>\n",
       "      <th>1</th>\n",
       "      <td>2</td>\n",
       "      <td>3</td>\n",
       "      <td>alfa-romero stelvio</td>\n",
       "      <td>gas</td>\n",
       "      <td>std</td>\n",
       "      <td>two</td>\n",
       "      <td>convertible</td>\n",
       "      <td>rwd</td>\n",
       "      <td>front</td>\n",
       "      <td>88.6</td>\n",
       "      <td>...</td>\n",
       "      <td>mpfi</td>\n",
       "      <td>3.47</td>\n",
       "      <td>2.68</td>\n",
       "      <td>9.0</td>\n",
       "      <td>111</td>\n",
       "      <td>5000</td>\n",
       "      <td>21</td>\n",
       "      <td>27</td>\n",
       "      <td>16500.0</td>\n",
       "      <td>alfa-romero</td>\n",
       "    </tr>\n",
       "    <tr>\n",
       "      <th>2</th>\n",
       "      <td>3</td>\n",
       "      <td>1</td>\n",
       "      <td>alfa-romero Quadrifoglio</td>\n",
       "      <td>gas</td>\n",
       "      <td>std</td>\n",
       "      <td>two</td>\n",
       "      <td>hatchback</td>\n",
       "      <td>rwd</td>\n",
       "      <td>front</td>\n",
       "      <td>94.5</td>\n",
       "      <td>...</td>\n",
       "      <td>mpfi</td>\n",
       "      <td>2.68</td>\n",
       "      <td>3.47</td>\n",
       "      <td>9.0</td>\n",
       "      <td>154</td>\n",
       "      <td>5000</td>\n",
       "      <td>19</td>\n",
       "      <td>26</td>\n",
       "      <td>16500.0</td>\n",
       "      <td>alfa-romero</td>\n",
       "    </tr>\n",
       "    <tr>\n",
       "      <th>3</th>\n",
       "      <td>4</td>\n",
       "      <td>2</td>\n",
       "      <td>audi 100 ls</td>\n",
       "      <td>gas</td>\n",
       "      <td>std</td>\n",
       "      <td>four</td>\n",
       "      <td>sedan</td>\n",
       "      <td>fwd</td>\n",
       "      <td>front</td>\n",
       "      <td>99.8</td>\n",
       "      <td>...</td>\n",
       "      <td>mpfi</td>\n",
       "      <td>3.19</td>\n",
       "      <td>3.40</td>\n",
       "      <td>10.0</td>\n",
       "      <td>102</td>\n",
       "      <td>5500</td>\n",
       "      <td>24</td>\n",
       "      <td>30</td>\n",
       "      <td>13950.0</td>\n",
       "      <td>audi</td>\n",
       "    </tr>\n",
       "    <tr>\n",
       "      <th>4</th>\n",
       "      <td>5</td>\n",
       "      <td>2</td>\n",
       "      <td>audi 100ls</td>\n",
       "      <td>gas</td>\n",
       "      <td>std</td>\n",
       "      <td>four</td>\n",
       "      <td>sedan</td>\n",
       "      <td>4wd</td>\n",
       "      <td>front</td>\n",
       "      <td>99.4</td>\n",
       "      <td>...</td>\n",
       "      <td>mpfi</td>\n",
       "      <td>3.19</td>\n",
       "      <td>3.40</td>\n",
       "      <td>8.0</td>\n",
       "      <td>115</td>\n",
       "      <td>5500</td>\n",
       "      <td>18</td>\n",
       "      <td>22</td>\n",
       "      <td>17450.0</td>\n",
       "      <td>audi</td>\n",
       "    </tr>\n",
       "    <tr>\n",
       "      <th>...</th>\n",
       "      <td>...</td>\n",
       "      <td>...</td>\n",
       "      <td>...</td>\n",
       "      <td>...</td>\n",
       "      <td>...</td>\n",
       "      <td>...</td>\n",
       "      <td>...</td>\n",
       "      <td>...</td>\n",
       "      <td>...</td>\n",
       "      <td>...</td>\n",
       "      <td>...</td>\n",
       "      <td>...</td>\n",
       "      <td>...</td>\n",
       "      <td>...</td>\n",
       "      <td>...</td>\n",
       "      <td>...</td>\n",
       "      <td>...</td>\n",
       "      <td>...</td>\n",
       "      <td>...</td>\n",
       "      <td>...</td>\n",
       "      <td>...</td>\n",
       "    </tr>\n",
       "    <tr>\n",
       "      <th>200</th>\n",
       "      <td>201</td>\n",
       "      <td>-1</td>\n",
       "      <td>volvo 145e (sw)</td>\n",
       "      <td>gas</td>\n",
       "      <td>std</td>\n",
       "      <td>four</td>\n",
       "      <td>sedan</td>\n",
       "      <td>rwd</td>\n",
       "      <td>front</td>\n",
       "      <td>109.1</td>\n",
       "      <td>...</td>\n",
       "      <td>mpfi</td>\n",
       "      <td>3.78</td>\n",
       "      <td>3.15</td>\n",
       "      <td>9.5</td>\n",
       "      <td>114</td>\n",
       "      <td>5400</td>\n",
       "      <td>23</td>\n",
       "      <td>28</td>\n",
       "      <td>16845.0</td>\n",
       "      <td>volvo</td>\n",
       "    </tr>\n",
       "    <tr>\n",
       "      <th>201</th>\n",
       "      <td>202</td>\n",
       "      <td>-1</td>\n",
       "      <td>volvo 144ea</td>\n",
       "      <td>gas</td>\n",
       "      <td>turbo</td>\n",
       "      <td>four</td>\n",
       "      <td>sedan</td>\n",
       "      <td>rwd</td>\n",
       "      <td>front</td>\n",
       "      <td>109.1</td>\n",
       "      <td>...</td>\n",
       "      <td>mpfi</td>\n",
       "      <td>3.78</td>\n",
       "      <td>3.15</td>\n",
       "      <td>8.7</td>\n",
       "      <td>160</td>\n",
       "      <td>5300</td>\n",
       "      <td>19</td>\n",
       "      <td>25</td>\n",
       "      <td>19045.0</td>\n",
       "      <td>volvo</td>\n",
       "    </tr>\n",
       "    <tr>\n",
       "      <th>202</th>\n",
       "      <td>203</td>\n",
       "      <td>-1</td>\n",
       "      <td>volvo 244dl</td>\n",
       "      <td>gas</td>\n",
       "      <td>std</td>\n",
       "      <td>four</td>\n",
       "      <td>sedan</td>\n",
       "      <td>rwd</td>\n",
       "      <td>front</td>\n",
       "      <td>109.1</td>\n",
       "      <td>...</td>\n",
       "      <td>mpfi</td>\n",
       "      <td>3.58</td>\n",
       "      <td>2.87</td>\n",
       "      <td>8.8</td>\n",
       "      <td>134</td>\n",
       "      <td>5500</td>\n",
       "      <td>18</td>\n",
       "      <td>23</td>\n",
       "      <td>21485.0</td>\n",
       "      <td>volvo</td>\n",
       "    </tr>\n",
       "    <tr>\n",
       "      <th>203</th>\n",
       "      <td>204</td>\n",
       "      <td>-1</td>\n",
       "      <td>volvo 246</td>\n",
       "      <td>diesel</td>\n",
       "      <td>turbo</td>\n",
       "      <td>four</td>\n",
       "      <td>sedan</td>\n",
       "      <td>rwd</td>\n",
       "      <td>front</td>\n",
       "      <td>109.1</td>\n",
       "      <td>...</td>\n",
       "      <td>idi</td>\n",
       "      <td>3.01</td>\n",
       "      <td>3.40</td>\n",
       "      <td>23.0</td>\n",
       "      <td>106</td>\n",
       "      <td>4800</td>\n",
       "      <td>26</td>\n",
       "      <td>27</td>\n",
       "      <td>22470.0</td>\n",
       "      <td>volvo</td>\n",
       "    </tr>\n",
       "    <tr>\n",
       "      <th>204</th>\n",
       "      <td>205</td>\n",
       "      <td>-1</td>\n",
       "      <td>volvo 264gl</td>\n",
       "      <td>gas</td>\n",
       "      <td>turbo</td>\n",
       "      <td>four</td>\n",
       "      <td>sedan</td>\n",
       "      <td>rwd</td>\n",
       "      <td>front</td>\n",
       "      <td>109.1</td>\n",
       "      <td>...</td>\n",
       "      <td>mpfi</td>\n",
       "      <td>3.78</td>\n",
       "      <td>3.15</td>\n",
       "      <td>9.5</td>\n",
       "      <td>114</td>\n",
       "      <td>5400</td>\n",
       "      <td>19</td>\n",
       "      <td>25</td>\n",
       "      <td>22625.0</td>\n",
       "      <td>volvo</td>\n",
       "    </tr>\n",
       "  </tbody>\n",
       "</table>\n",
       "<p>205 rows × 27 columns</p>\n",
       "</div>"
      ],
      "text/plain": [
       "     car_ID  symboling                   CarName fueltype aspiration  \\\n",
       "0         1          3        alfa-romero giulia      gas        std   \n",
       "1         2          3       alfa-romero stelvio      gas        std   \n",
       "2         3          1  alfa-romero Quadrifoglio      gas        std   \n",
       "3         4          2               audi 100 ls      gas        std   \n",
       "4         5          2                audi 100ls      gas        std   \n",
       "..      ...        ...                       ...      ...        ...   \n",
       "200     201         -1           volvo 145e (sw)      gas        std   \n",
       "201     202         -1               volvo 144ea      gas      turbo   \n",
       "202     203         -1               volvo 244dl      gas        std   \n",
       "203     204         -1                 volvo 246   diesel      turbo   \n",
       "204     205         -1               volvo 264gl      gas      turbo   \n",
       "\n",
       "    doornumber      carbody drivewheel enginelocation  wheelbase  ...  \\\n",
       "0          two  convertible        rwd          front       88.6  ...   \n",
       "1          two  convertible        rwd          front       88.6  ...   \n",
       "2          two    hatchback        rwd          front       94.5  ...   \n",
       "3         four        sedan        fwd          front       99.8  ...   \n",
       "4         four        sedan        4wd          front       99.4  ...   \n",
       "..         ...          ...        ...            ...        ...  ...   \n",
       "200       four        sedan        rwd          front      109.1  ...   \n",
       "201       four        sedan        rwd          front      109.1  ...   \n",
       "202       four        sedan        rwd          front      109.1  ...   \n",
       "203       four        sedan        rwd          front      109.1  ...   \n",
       "204       four        sedan        rwd          front      109.1  ...   \n",
       "\n",
       "     fuelsystem  boreratio  stroke  compressionratio horsepower peakrpm  \\\n",
       "0          mpfi       3.47    2.68               9.0        111    5000   \n",
       "1          mpfi       3.47    2.68               9.0        111    5000   \n",
       "2          mpfi       2.68    3.47               9.0        154    5000   \n",
       "3          mpfi       3.19    3.40              10.0        102    5500   \n",
       "4          mpfi       3.19    3.40               8.0        115    5500   \n",
       "..          ...        ...     ...               ...        ...     ...   \n",
       "200        mpfi       3.78    3.15               9.5        114    5400   \n",
       "201        mpfi       3.78    3.15               8.7        160    5300   \n",
       "202        mpfi       3.58    2.87               8.8        134    5500   \n",
       "203         idi       3.01    3.40              23.0        106    4800   \n",
       "204        mpfi       3.78    3.15               9.5        114    5400   \n",
       "\n",
       "     citympg highwaympg    price     carmaker  \n",
       "0         21         27  13495.0  alfa-romero  \n",
       "1         21         27  16500.0  alfa-romero  \n",
       "2         19         26  16500.0  alfa-romero  \n",
       "3         24         30  13950.0         audi  \n",
       "4         18         22  17450.0         audi  \n",
       "..       ...        ...      ...          ...  \n",
       "200       23         28  16845.0        volvo  \n",
       "201       19         25  19045.0        volvo  \n",
       "202       18         23  21485.0        volvo  \n",
       "203       26         27  22470.0        volvo  \n",
       "204       19         25  22625.0        volvo  \n",
       "\n",
       "[205 rows x 27 columns]"
      ]
     },
     "execution_count": 87,
     "metadata": {},
     "output_type": "execute_result"
    }
   ],
   "source": [
    "df['carmaker'] = 0\n",
    "# hãng xe là kí tự đầu tiên được ngăn cách bởi dấu cách của tên xe\n",
    "for i in range(len(df['CarName'])):\n",
    "    df['carmaker'][i] = df['CarName'][i].split()[0].lower()\n",
    "df"
   ]
  },
  {
   "cell_type": "code",
   "execution_count": 88,
   "id": "6cbce360",
   "metadata": {},
   "outputs": [
    {
     "data": {
      "text/html": [
       "<div>\n",
       "<style scoped>\n",
       "    .dataframe tbody tr th:only-of-type {\n",
       "        vertical-align: middle;\n",
       "    }\n",
       "\n",
       "    .dataframe tbody tr th {\n",
       "        vertical-align: top;\n",
       "    }\n",
       "\n",
       "    .dataframe thead th {\n",
       "        text-align: right;\n",
       "    }\n",
       "</style>\n",
       "<table border=\"1\" class=\"dataframe\">\n",
       "  <thead>\n",
       "    <tr style=\"text-align: right;\">\n",
       "      <th></th>\n",
       "      <th>car_ID</th>\n",
       "      <th>symboling</th>\n",
       "      <th>CarName</th>\n",
       "      <th>fueltype</th>\n",
       "      <th>aspiration</th>\n",
       "      <th>doornumber</th>\n",
       "      <th>carbody</th>\n",
       "      <th>drivewheel</th>\n",
       "      <th>enginelocation</th>\n",
       "      <th>wheelbase</th>\n",
       "      <th>...</th>\n",
       "      <th>fuelsystem</th>\n",
       "      <th>boreratio</th>\n",
       "      <th>stroke</th>\n",
       "      <th>compressionratio</th>\n",
       "      <th>horsepower</th>\n",
       "      <th>peakrpm</th>\n",
       "      <th>citympg</th>\n",
       "      <th>highwaympg</th>\n",
       "      <th>price</th>\n",
       "      <th>carmaker</th>\n",
       "    </tr>\n",
       "  </thead>\n",
       "  <tbody>\n",
       "    <tr>\n",
       "      <th>0</th>\n",
       "      <td>1</td>\n",
       "      <td>3</td>\n",
       "      <td>alfa-romero giulia</td>\n",
       "      <td>gas</td>\n",
       "      <td>std</td>\n",
       "      <td>2</td>\n",
       "      <td>convertible</td>\n",
       "      <td>rwd</td>\n",
       "      <td>front</td>\n",
       "      <td>88.6</td>\n",
       "      <td>...</td>\n",
       "      <td>mpfi</td>\n",
       "      <td>3.47</td>\n",
       "      <td>2.68</td>\n",
       "      <td>9.0</td>\n",
       "      <td>111</td>\n",
       "      <td>5000</td>\n",
       "      <td>21</td>\n",
       "      <td>27</td>\n",
       "      <td>13495.0</td>\n",
       "      <td>alfa-romero</td>\n",
       "    </tr>\n",
       "    <tr>\n",
       "      <th>1</th>\n",
       "      <td>2</td>\n",
       "      <td>3</td>\n",
       "      <td>alfa-romero stelvio</td>\n",
       "      <td>gas</td>\n",
       "      <td>std</td>\n",
       "      <td>2</td>\n",
       "      <td>convertible</td>\n",
       "      <td>rwd</td>\n",
       "      <td>front</td>\n",
       "      <td>88.6</td>\n",
       "      <td>...</td>\n",
       "      <td>mpfi</td>\n",
       "      <td>3.47</td>\n",
       "      <td>2.68</td>\n",
       "      <td>9.0</td>\n",
       "      <td>111</td>\n",
       "      <td>5000</td>\n",
       "      <td>21</td>\n",
       "      <td>27</td>\n",
       "      <td>16500.0</td>\n",
       "      <td>alfa-romero</td>\n",
       "    </tr>\n",
       "    <tr>\n",
       "      <th>2</th>\n",
       "      <td>3</td>\n",
       "      <td>1</td>\n",
       "      <td>alfa-romero Quadrifoglio</td>\n",
       "      <td>gas</td>\n",
       "      <td>std</td>\n",
       "      <td>2</td>\n",
       "      <td>hatchback</td>\n",
       "      <td>rwd</td>\n",
       "      <td>front</td>\n",
       "      <td>94.5</td>\n",
       "      <td>...</td>\n",
       "      <td>mpfi</td>\n",
       "      <td>2.68</td>\n",
       "      <td>3.47</td>\n",
       "      <td>9.0</td>\n",
       "      <td>154</td>\n",
       "      <td>5000</td>\n",
       "      <td>19</td>\n",
       "      <td>26</td>\n",
       "      <td>16500.0</td>\n",
       "      <td>alfa-romero</td>\n",
       "    </tr>\n",
       "    <tr>\n",
       "      <th>3</th>\n",
       "      <td>4</td>\n",
       "      <td>2</td>\n",
       "      <td>audi 100 ls</td>\n",
       "      <td>gas</td>\n",
       "      <td>std</td>\n",
       "      <td>4</td>\n",
       "      <td>sedan</td>\n",
       "      <td>fwd</td>\n",
       "      <td>front</td>\n",
       "      <td>99.8</td>\n",
       "      <td>...</td>\n",
       "      <td>mpfi</td>\n",
       "      <td>3.19</td>\n",
       "      <td>3.40</td>\n",
       "      <td>10.0</td>\n",
       "      <td>102</td>\n",
       "      <td>5500</td>\n",
       "      <td>24</td>\n",
       "      <td>30</td>\n",
       "      <td>13950.0</td>\n",
       "      <td>audi</td>\n",
       "    </tr>\n",
       "    <tr>\n",
       "      <th>4</th>\n",
       "      <td>5</td>\n",
       "      <td>2</td>\n",
       "      <td>audi 100ls</td>\n",
       "      <td>gas</td>\n",
       "      <td>std</td>\n",
       "      <td>4</td>\n",
       "      <td>sedan</td>\n",
       "      <td>4wd</td>\n",
       "      <td>front</td>\n",
       "      <td>99.4</td>\n",
       "      <td>...</td>\n",
       "      <td>mpfi</td>\n",
       "      <td>3.19</td>\n",
       "      <td>3.40</td>\n",
       "      <td>8.0</td>\n",
       "      <td>115</td>\n",
       "      <td>5500</td>\n",
       "      <td>18</td>\n",
       "      <td>22</td>\n",
       "      <td>17450.0</td>\n",
       "      <td>audi</td>\n",
       "    </tr>\n",
       "  </tbody>\n",
       "</table>\n",
       "<p>5 rows × 27 columns</p>\n",
       "</div>"
      ],
      "text/plain": [
       "   car_ID  symboling                   CarName fueltype aspiration  \\\n",
       "0       1          3        alfa-romero giulia      gas        std   \n",
       "1       2          3       alfa-romero stelvio      gas        std   \n",
       "2       3          1  alfa-romero Quadrifoglio      gas        std   \n",
       "3       4          2               audi 100 ls      gas        std   \n",
       "4       5          2                audi 100ls      gas        std   \n",
       "\n",
       "   doornumber      carbody drivewheel enginelocation  wheelbase  ...  \\\n",
       "0           2  convertible        rwd          front       88.6  ...   \n",
       "1           2  convertible        rwd          front       88.6  ...   \n",
       "2           2    hatchback        rwd          front       94.5  ...   \n",
       "3           4        sedan        fwd          front       99.8  ...   \n",
       "4           4        sedan        4wd          front       99.4  ...   \n",
       "\n",
       "   fuelsystem  boreratio  stroke  compressionratio horsepower  peakrpm  \\\n",
       "0        mpfi       3.47    2.68               9.0        111     5000   \n",
       "1        mpfi       3.47    2.68               9.0        111     5000   \n",
       "2        mpfi       2.68    3.47               9.0        154     5000   \n",
       "3        mpfi       3.19    3.40              10.0        102     5500   \n",
       "4        mpfi       3.19    3.40               8.0        115     5500   \n",
       "\n",
       "   citympg highwaympg    price     carmaker  \n",
       "0       21         27  13495.0  alfa-romero  \n",
       "1       21         27  16500.0  alfa-romero  \n",
       "2       19         26  16500.0  alfa-romero  \n",
       "3       24         30  13950.0         audi  \n",
       "4       18         22  17450.0         audi  \n",
       "\n",
       "[5 rows x 27 columns]"
      ]
     },
     "execution_count": 88,
     "metadata": {},
     "output_type": "execute_result"
    }
   ],
   "source": [
    "df['doornumber'].replace({'two':2,'three':3,'four':4,'five':5,'six':6},inplace=True)\n",
    "df['cylindernumber'].replace({'twelve':12,'three':3,'four':4,'five':5,'six':6,'eight':12,'two':2},inplace=True)\n",
    "df.head()"
   ]
  },
  {
   "cell_type": "code",
   "execution_count": 89,
   "id": "4914e7de",
   "metadata": {},
   "outputs": [
    {
     "name": "stdout",
     "output_type": "stream",
     "text": [
      "<class 'pandas.core.frame.DataFrame'>\n",
      "RangeIndex: 205 entries, 0 to 204\n",
      "Data columns (total 27 columns):\n",
      " #   Column            Non-Null Count  Dtype  \n",
      "---  ------            --------------  -----  \n",
      " 0   car_ID            205 non-null    int64  \n",
      " 1   symboling         205 non-null    int64  \n",
      " 2   CarName           205 non-null    object \n",
      " 3   fueltype          205 non-null    object \n",
      " 4   aspiration        205 non-null    object \n",
      " 5   doornumber        205 non-null    int64  \n",
      " 6   carbody           205 non-null    object \n",
      " 7   drivewheel        205 non-null    object \n",
      " 8   enginelocation    205 non-null    object \n",
      " 9   wheelbase         205 non-null    float64\n",
      " 10  carlength         205 non-null    float64\n",
      " 11  carwidth          205 non-null    float64\n",
      " 12  carheight         205 non-null    float64\n",
      " 13  curbweight        205 non-null    int64  \n",
      " 14  enginetype        205 non-null    object \n",
      " 15  cylindernumber    205 non-null    int64  \n",
      " 16  enginesize        205 non-null    int64  \n",
      " 17  fuelsystem        205 non-null    object \n",
      " 18  boreratio         205 non-null    float64\n",
      " 19  stroke            205 non-null    float64\n",
      " 20  compressionratio  205 non-null    float64\n",
      " 21  horsepower        205 non-null    int64  \n",
      " 22  peakrpm           205 non-null    int64  \n",
      " 23  citympg           205 non-null    int64  \n",
      " 24  highwaympg        205 non-null    int64  \n",
      " 25  price             205 non-null    float64\n",
      " 26  carmaker          205 non-null    object \n",
      "dtypes: float64(8), int64(10), object(9)\n",
      "memory usage: 43.4+ KB\n"
     ]
    }
   ],
   "source": [
    "df.info()"
   ]
  },
  {
   "cell_type": "code",
   "execution_count": 90,
   "id": "fd65b9fa",
   "metadata": {},
   "outputs": [
    {
     "data": {
      "text/plain": [
       "array(['alfa-romero', 'audi', 'bmw', 'chevrolet', 'dodge', 'honda',\n",
       "       'isuzu', 'jaguar', 'maxda', 'mazda', 'buick', 'mercury',\n",
       "       'mitsubishi', 'nissan', 'peugeot', 'plymouth', 'porsche',\n",
       "       'porcshce', 'renault', 'saab', 'subaru', 'toyota', 'toyouta',\n",
       "       'vokswagen', 'volkswagen', 'vw', 'volvo'], dtype=object)"
      ]
     },
     "execution_count": 90,
     "metadata": {},
     "output_type": "execute_result"
    }
   ],
   "source": [
    "df.carmaker.unique()"
   ]
  },
  {
   "cell_type": "code",
   "execution_count": 91,
   "id": "46ec640d",
   "metadata": {},
   "outputs": [
    {
     "data": {
      "text/plain": [
       "array(['alfa-romero', 'audi', 'bmw', 'chevrolet', 'dodge', 'honda',\n",
       "       'isuzu', 'jaguar', 'mazda', 'buick', 'mercury', 'mitsubishi',\n",
       "       'nissan', 'peugeot', 'plymouth', 'porsche', 'renault', 'saab',\n",
       "       'subaru', 'toyota', 'volkswagen', 'volvo'], dtype=object)"
      ]
     },
     "execution_count": 91,
     "metadata": {},
     "output_type": "execute_result"
    }
   ],
   "source": [
    "#sua loi cac hang xe\n",
    "for i in range(len(df.carmaker)):\n",
    "    if df.carmaker.iloc[i] == 'maxda' : df.carmaker.iloc[i] = 'mazda'\n",
    "    elif df.carmaker.iloc[i] == 'vokswagen' or df.carmaker.iloc[i] == 'vw': df.carmaker.iloc[i] = 'volkswagen'\n",
    "    elif df.carmaker.iloc[i] == 'toyouta' : df.carmaker.iloc[i] = 'toyota'\n",
    "    elif df.carmaker.iloc[i] == 'porcshce' : df.carmaker.iloc[i] = 'porsche'\n",
    "df.carmaker.unique()"
   ]
  },
  {
   "cell_type": "code",
   "execution_count": 92,
   "id": "65020865",
   "metadata": {},
   "outputs": [
    {
     "name": "stderr",
     "output_type": "stream",
     "text": [
      "C:\\Users\\Admin\\anaconda3\\lib\\site-packages\\seaborn\\_decorators.py:36: FutureWarning: Pass the following variable as a keyword arg: x. From version 0.12, the only valid positional argument will be `data`, and passing other arguments without an explicit keyword will result in an error or misinterpretation.\n",
      "  warnings.warn(\n"
     ]
    },
    {
     "data": {
      "text/plain": [
       "<AxesSubplot:xlabel='price'>"
      ]
     },
     "execution_count": 92,
     "metadata": {},
     "output_type": "execute_result"
    },
    {
     "data": {
      "image/png": "[encoded data removed]",
      "text/plain": [
       "<Figure size 432x288 with 1 Axes>"
      ]
     },
     "metadata": {
      "needs_background": "light"
     },
     "output_type": "display_data"
    }
   ],
   "source": [
    "sns.boxplot(df['price'])"
   ]
  },
  {
   "cell_type": "code",
   "execution_count": 93,
   "id": "f4b85c48",
   "metadata": {},
   "outputs": [
    {
     "name": "stdout",
     "output_type": "stream",
     "text": [
      "-5284.5\n",
      "29575.5\n"
     ]
    }
   ],
   "source": [
    "q1 = df['price'].quantile(0.25)\n",
    "q3 = df['price'].quantile(0.75)\n",
    "iqr = q3 - q1\n",
    "print((q1 - 1.5 * iqr))\n",
    "print((q3 + 1.5 * iqr))"
   ]
  },
  {
   "cell_type": "code",
   "execution_count": 94,
   "id": "63d9fcff",
   "metadata": {},
   "outputs": [
    {
     "data": {
      "text/html": [
       "<div>\n",
       "<style scoped>\n",
       "    .dataframe tbody tr th:only-of-type {\n",
       "        vertical-align: middle;\n",
       "    }\n",
       "\n",
       "    .dataframe tbody tr th {\n",
       "        vertical-align: top;\n",
       "    }\n",
       "\n",
       "    .dataframe thead th {\n",
       "        text-align: right;\n",
       "    }\n",
       "</style>\n",
       "<table border=\"1\" class=\"dataframe\">\n",
       "  <thead>\n",
       "    <tr style=\"text-align: right;\">\n",
       "      <th></th>\n",
       "      <th>car_ID</th>\n",
       "      <th>symboling</th>\n",
       "      <th>CarName</th>\n",
       "      <th>fueltype</th>\n",
       "      <th>aspiration</th>\n",
       "      <th>doornumber</th>\n",
       "      <th>carbody</th>\n",
       "      <th>drivewheel</th>\n",
       "      <th>enginelocation</th>\n",
       "      <th>wheelbase</th>\n",
       "      <th>...</th>\n",
       "      <th>fuelsystem</th>\n",
       "      <th>boreratio</th>\n",
       "      <th>stroke</th>\n",
       "      <th>compressionratio</th>\n",
       "      <th>horsepower</th>\n",
       "      <th>peakrpm</th>\n",
       "      <th>citympg</th>\n",
       "      <th>highwaympg</th>\n",
       "      <th>price</th>\n",
       "      <th>carmaker</th>\n",
       "    </tr>\n",
       "  </thead>\n",
       "  <tbody>\n",
       "    <tr>\n",
       "      <th>0</th>\n",
       "      <td>1</td>\n",
       "      <td>3</td>\n",
       "      <td>alfa-romero giulia</td>\n",
       "      <td>gas</td>\n",
       "      <td>std</td>\n",
       "      <td>2</td>\n",
       "      <td>convertible</td>\n",
       "      <td>rwd</td>\n",
       "      <td>front</td>\n",
       "      <td>88.6</td>\n",
       "      <td>...</td>\n",
       "      <td>mpfi</td>\n",
       "      <td>3.47</td>\n",
       "      <td>2.68</td>\n",
       "      <td>9.0</td>\n",
       "      <td>111</td>\n",
       "      <td>5000</td>\n",
       "      <td>21</td>\n",
       "      <td>27</td>\n",
       "      <td>13495.0</td>\n",
       "      <td>alfa-romero</td>\n",
       "    </tr>\n",
       "    <tr>\n",
       "      <th>1</th>\n",
       "      <td>2</td>\n",
       "      <td>3</td>\n",
       "      <td>alfa-romero stelvio</td>\n",
       "      <td>gas</td>\n",
       "      <td>std</td>\n",
       "      <td>2</td>\n",
       "      <td>convertible</td>\n",
       "      <td>rwd</td>\n",
       "      <td>front</td>\n",
       "      <td>88.6</td>\n",
       "      <td>...</td>\n",
       "      <td>mpfi</td>\n",
       "      <td>3.47</td>\n",
       "      <td>2.68</td>\n",
       "      <td>9.0</td>\n",
       "      <td>111</td>\n",
       "      <td>5000</td>\n",
       "      <td>21</td>\n",
       "      <td>27</td>\n",
       "      <td>16500.0</td>\n",
       "      <td>alfa-romero</td>\n",
       "    </tr>\n",
       "    <tr>\n",
       "      <th>2</th>\n",
       "      <td>3</td>\n",
       "      <td>1</td>\n",
       "      <td>alfa-romero Quadrifoglio</td>\n",
       "      <td>gas</td>\n",
       "      <td>std</td>\n",
       "      <td>2</td>\n",
       "      <td>hatchback</td>\n",
       "      <td>rwd</td>\n",
       "      <td>front</td>\n",
       "      <td>94.5</td>\n",
       "      <td>...</td>\n",
       "      <td>mpfi</td>\n",
       "      <td>2.68</td>\n",
       "      <td>3.47</td>\n",
       "      <td>9.0</td>\n",
       "      <td>154</td>\n",
       "      <td>5000</td>\n",
       "      <td>19</td>\n",
       "      <td>26</td>\n",
       "      <td>16500.0</td>\n",
       "      <td>alfa-romero</td>\n",
       "    </tr>\n",
       "    <tr>\n",
       "      <th>3</th>\n",
       "      <td>4</td>\n",
       "      <td>2</td>\n",
       "      <td>audi 100 ls</td>\n",
       "      <td>gas</td>\n",
       "      <td>std</td>\n",
       "      <td>4</td>\n",
       "      <td>sedan</td>\n",
       "      <td>fwd</td>\n",
       "      <td>front</td>\n",
       "      <td>99.8</td>\n",
       "      <td>...</td>\n",
       "      <td>mpfi</td>\n",
       "      <td>3.19</td>\n",
       "      <td>3.40</td>\n",
       "      <td>10.0</td>\n",
       "      <td>102</td>\n",
       "      <td>5500</td>\n",
       "      <td>24</td>\n",
       "      <td>30</td>\n",
       "      <td>13950.0</td>\n",
       "      <td>audi</td>\n",
       "    </tr>\n",
       "    <tr>\n",
       "      <th>4</th>\n",
       "      <td>5</td>\n",
       "      <td>2</td>\n",
       "      <td>audi 100ls</td>\n",
       "      <td>gas</td>\n",
       "      <td>std</td>\n",
       "      <td>4</td>\n",
       "      <td>sedan</td>\n",
       "      <td>4wd</td>\n",
       "      <td>front</td>\n",
       "      <td>99.4</td>\n",
       "      <td>...</td>\n",
       "      <td>mpfi</td>\n",
       "      <td>3.19</td>\n",
       "      <td>3.40</td>\n",
       "      <td>8.0</td>\n",
       "      <td>115</td>\n",
       "      <td>5500</td>\n",
       "      <td>18</td>\n",
       "      <td>22</td>\n",
       "      <td>17450.0</td>\n",
       "      <td>audi</td>\n",
       "    </tr>\n",
       "    <tr>\n",
       "      <th>...</th>\n",
       "      <td>...</td>\n",
       "      <td>...</td>\n",
       "      <td>...</td>\n",
       "      <td>...</td>\n",
       "      <td>...</td>\n",
       "      <td>...</td>\n",
       "      <td>...</td>\n",
       "      <td>...</td>\n",
       "      <td>...</td>\n",
       "      <td>...</td>\n",
       "      <td>...</td>\n",
       "      <td>...</td>\n",
       "      <td>...</td>\n",
       "      <td>...</td>\n",
       "      <td>...</td>\n",
       "      <td>...</td>\n",
       "      <td>...</td>\n",
       "      <td>...</td>\n",
       "      <td>...</td>\n",
       "      <td>...</td>\n",
       "      <td>...</td>\n",
       "    </tr>\n",
       "    <tr>\n",
       "      <th>200</th>\n",
       "      <td>201</td>\n",
       "      <td>-1</td>\n",
       "      <td>volvo 145e (sw)</td>\n",
       "      <td>gas</td>\n",
       "      <td>std</td>\n",
       "      <td>4</td>\n",
       "      <td>sedan</td>\n",
       "      <td>rwd</td>\n",
       "      <td>front</td>\n",
       "      <td>109.1</td>\n",
       "      <td>...</td>\n",
       "      <td>mpfi</td>\n",
       "      <td>3.78</td>\n",
       "      <td>3.15</td>\n",
       "      <td>9.5</td>\n",
       "      <td>114</td>\n",
       "      <td>5400</td>\n",
       "      <td>23</td>\n",
       "      <td>28</td>\n",
       "      <td>16845.0</td>\n",
       "      <td>volvo</td>\n",
       "    </tr>\n",
       "    <tr>\n",
       "      <th>201</th>\n",
       "      <td>202</td>\n",
       "      <td>-1</td>\n",
       "      <td>volvo 144ea</td>\n",
       "      <td>gas</td>\n",
       "      <td>turbo</td>\n",
       "      <td>4</td>\n",
       "      <td>sedan</td>\n",
       "      <td>rwd</td>\n",
       "      <td>front</td>\n",
       "      <td>109.1</td>\n",
       "      <td>...</td>\n",
       "      <td>mpfi</td>\n",
       "      <td>3.78</td>\n",
       "      <td>3.15</td>\n",
       "      <td>8.7</td>\n",
       "      <td>160</td>\n",
       "      <td>5300</td>\n",
       "      <td>19</td>\n",
       "      <td>25</td>\n",
       "      <td>19045.0</td>\n",
       "      <td>volvo</td>\n",
       "    </tr>\n",
       "    <tr>\n",
       "      <th>202</th>\n",
       "      <td>203</td>\n",
       "      <td>-1</td>\n",
       "      <td>volvo 244dl</td>\n",
       "      <td>gas</td>\n",
       "      <td>std</td>\n",
       "      <td>4</td>\n",
       "      <td>sedan</td>\n",
       "      <td>rwd</td>\n",
       "      <td>front</td>\n",
       "      <td>109.1</td>\n",
       "      <td>...</td>\n",
       "      <td>mpfi</td>\n",
       "      <td>3.58</td>\n",
       "      <td>2.87</td>\n",
       "      <td>8.8</td>\n",
       "      <td>134</td>\n",
       "      <td>5500</td>\n",
       "      <td>18</td>\n",
       "      <td>23</td>\n",
       "      <td>21485.0</td>\n",
       "      <td>volvo</td>\n",
       "    </tr>\n",
       "    <tr>\n",
       "      <th>203</th>\n",
       "      <td>204</td>\n",
       "      <td>-1</td>\n",
       "      <td>volvo 246</td>\n",
       "      <td>diesel</td>\n",
       "      <td>turbo</td>\n",
       "      <td>4</td>\n",
       "      <td>sedan</td>\n",
       "      <td>rwd</td>\n",
       "      <td>front</td>\n",
       "      <td>109.1</td>\n",
       "      <td>...</td>\n",
       "      <td>idi</td>\n",
       "      <td>3.01</td>\n",
       "      <td>3.40</td>\n",
       "      <td>23.0</td>\n",
       "      <td>106</td>\n",
       "      <td>4800</td>\n",
       "      <td>26</td>\n",
       "      <td>27</td>\n",
       "      <td>22470.0</td>\n",
       "      <td>volvo</td>\n",
       "    </tr>\n",
       "    <tr>\n",
       "      <th>204</th>\n",
       "      <td>205</td>\n",
       "      <td>-1</td>\n",
       "      <td>volvo 264gl</td>\n",
       "      <td>gas</td>\n",
       "      <td>turbo</td>\n",
       "      <td>4</td>\n",
       "      <td>sedan</td>\n",
       "      <td>rwd</td>\n",
       "      <td>front</td>\n",
       "      <td>109.1</td>\n",
       "      <td>...</td>\n",
       "      <td>mpfi</td>\n",
       "      <td>3.78</td>\n",
       "      <td>3.15</td>\n",
       "      <td>9.5</td>\n",
       "      <td>114</td>\n",
       "      <td>5400</td>\n",
       "      <td>19</td>\n",
       "      <td>25</td>\n",
       "      <td>22625.0</td>\n",
       "      <td>volvo</td>\n",
       "    </tr>\n",
       "  </tbody>\n",
       "</table>\n",
       "<p>190 rows × 27 columns</p>\n",
       "</div>"
      ],
      "text/plain": [
       "     car_ID  symboling                   CarName fueltype aspiration  \\\n",
       "0         1          3        alfa-romero giulia      gas        std   \n",
       "1         2          3       alfa-romero stelvio      gas        std   \n",
       "2         3          1  alfa-romero Quadrifoglio      gas        std   \n",
       "3         4          2               audi 100 ls      gas        std   \n",
       "4         5          2                audi 100ls      gas        std   \n",
       "..      ...        ...                       ...      ...        ...   \n",
       "200     201         -1           volvo 145e (sw)      gas        std   \n",
       "201     202         -1               volvo 144ea      gas      turbo   \n",
       "202     203         -1               volvo 244dl      gas        std   \n",
       "203     204         -1                 volvo 246   diesel      turbo   \n",
       "204     205         -1               volvo 264gl      gas      turbo   \n",
       "\n",
       "     doornumber      carbody drivewheel enginelocation  wheelbase  ...  \\\n",
       "0             2  convertible        rwd          front       88.6  ...   \n",
       "1             2  convertible        rwd          front       88.6  ...   \n",
       "2             2    hatchback        rwd          front       94.5  ...   \n",
       "3             4        sedan        fwd          front       99.8  ...   \n",
       "4             4        sedan        4wd          front       99.4  ...   \n",
       "..          ...          ...        ...            ...        ...  ...   \n",
       "200           4        sedan        rwd          front      109.1  ...   \n",
       "201           4        sedan        rwd          front      109.1  ...   \n",
       "202           4        sedan        rwd          front      109.1  ...   \n",
       "203           4        sedan        rwd          front      109.1  ...   \n",
       "204           4        sedan        rwd          front      109.1  ...   \n",
       "\n",
       "     fuelsystem  boreratio  stroke  compressionratio horsepower  peakrpm  \\\n",
       "0          mpfi       3.47    2.68               9.0        111     5000   \n",
       "1          mpfi       3.47    2.68               9.0        111     5000   \n",
       "2          mpfi       2.68    3.47               9.0        154     5000   \n",
       "3          mpfi       3.19    3.40              10.0        102     5500   \n",
       "4          mpfi       3.19    3.40               8.0        115     5500   \n",
       "..          ...        ...     ...               ...        ...      ...   \n",
       "200        mpfi       3.78    3.15               9.5        114     5400   \n",
       "201        mpfi       3.78    3.15               8.7        160     5300   \n",
       "202        mpfi       3.58    2.87               8.8        134     5500   \n",
       "203         idi       3.01    3.40              23.0        106     4800   \n",
       "204        mpfi       3.78    3.15               9.5        114     5400   \n",
       "\n",
       "     citympg highwaympg    price     carmaker  \n",
       "0         21         27  13495.0  alfa-romero  \n",
       "1         21         27  16500.0  alfa-romero  \n",
       "2         19         26  16500.0  alfa-romero  \n",
       "3         24         30  13950.0         audi  \n",
       "4         18         22  17450.0         audi  \n",
       "..       ...        ...      ...          ...  \n",
       "200       23         28  16845.0        volvo  \n",
       "201       19         25  19045.0        volvo  \n",
       "202       18         23  21485.0        volvo  \n",
       "203       26         27  22470.0        volvo  \n",
       "204       19         25  22625.0        volvo  \n",
       "\n",
       "[190 rows x 27 columns]"
      ]
     },
     "execution_count": 94,
     "metadata": {},
     "output_type": "execute_result"
    }
   ],
   "source": [
    "df = df[df.price < 29575.5]\n",
    "df"
   ]
  },
  {
   "cell_type": "code",
   "execution_count": 95,
   "id": "48480fbb",
   "metadata": {
    "scrolled": false
   },
   "outputs": [
    {
     "data": {
      "text/html": [
       "<div>\n",
       "<style scoped>\n",
       "    .dataframe tbody tr th:only-of-type {\n",
       "        vertical-align: middle;\n",
       "    }\n",
       "\n",
       "    .dataframe tbody tr th {\n",
       "        vertical-align: top;\n",
       "    }\n",
       "\n",
       "    .dataframe thead th {\n",
       "        text-align: right;\n",
       "    }\n",
       "</style>\n",
       "<table border=\"1\" class=\"dataframe\">\n",
       "  <thead>\n",
       "    <tr style=\"text-align: right;\">\n",
       "      <th></th>\n",
       "      <th>car_ID</th>\n",
       "      <th>symboling</th>\n",
       "      <th>doornumber</th>\n",
       "      <th>wheelbase</th>\n",
       "      <th>carlength</th>\n",
       "      <th>carwidth</th>\n",
       "      <th>carheight</th>\n",
       "      <th>curbweight</th>\n",
       "      <th>cylindernumber</th>\n",
       "      <th>enginesize</th>\n",
       "      <th>boreratio</th>\n",
       "      <th>stroke</th>\n",
       "      <th>compressionratio</th>\n",
       "      <th>horsepower</th>\n",
       "      <th>peakrpm</th>\n",
       "      <th>citympg</th>\n",
       "      <th>highwaympg</th>\n",
       "      <th>price</th>\n",
       "    </tr>\n",
       "  </thead>\n",
       "  <tbody>\n",
       "    <tr>\n",
       "      <th>count</th>\n",
       "      <td>190.000000</td>\n",
       "      <td>190.000000</td>\n",
       "      <td>190.000000</td>\n",
       "      <td>190.000000</td>\n",
       "      <td>190.000000</td>\n",
       "      <td>190.000000</td>\n",
       "      <td>190.000000</td>\n",
       "      <td>190.000000</td>\n",
       "      <td>190.000000</td>\n",
       "      <td>190.000000</td>\n",
       "      <td>190.000000</td>\n",
       "      <td>190.000000</td>\n",
       "      <td>190.000000</td>\n",
       "      <td>190.000000</td>\n",
       "      <td>190.000000</td>\n",
       "      <td>190.000000</td>\n",
       "      <td>190.000000</td>\n",
       "      <td>190.000000</td>\n",
       "    </tr>\n",
       "    <tr>\n",
       "      <th>mean</th>\n",
       "      <td>105.463158</td>\n",
       "      <td>0.836842</td>\n",
       "      <td>3.136842</td>\n",
       "      <td>98.276316</td>\n",
       "      <td>172.811579</td>\n",
       "      <td>65.635263</td>\n",
       "      <td>53.755263</td>\n",
       "      <td>2480.031579</td>\n",
       "      <td>4.173684</td>\n",
       "      <td>118.415789</td>\n",
       "      <td>3.303579</td>\n",
       "      <td>3.251263</td>\n",
       "      <td>10.183789</td>\n",
       "      <td>97.231579</td>\n",
       "      <td>5124.473684</td>\n",
       "      <td>25.947368</td>\n",
       "      <td>31.521053</td>\n",
       "      <td>11509.400879</td>\n",
       "    </tr>\n",
       "    <tr>\n",
       "      <th>std</th>\n",
       "      <td>59.925052</td>\n",
       "      <td>1.230009</td>\n",
       "      <td>0.993210</td>\n",
       "      <td>5.280965</td>\n",
       "      <td>11.375806</td>\n",
       "      <td>1.844961</td>\n",
       "      <td>2.425645</td>\n",
       "      <td>445.890595</td>\n",
       "      <td>0.671681</td>\n",
       "      <td>26.854315</td>\n",
       "      <td>0.261671</td>\n",
       "      <td>0.304045</td>\n",
       "      <td>4.015859</td>\n",
       "      <td>30.225940</td>\n",
       "      <td>471.593591</td>\n",
       "      <td>6.212921</td>\n",
       "      <td>6.476419</td>\n",
       "      <td>4968.444389</td>\n",
       "    </tr>\n",
       "    <tr>\n",
       "      <th>min</th>\n",
       "      <td>1.000000</td>\n",
       "      <td>-2.000000</td>\n",
       "      <td>2.000000</td>\n",
       "      <td>86.600000</td>\n",
       "      <td>141.100000</td>\n",
       "      <td>60.300000</td>\n",
       "      <td>48.800000</td>\n",
       "      <td>1488.000000</td>\n",
       "      <td>2.000000</td>\n",
       "      <td>61.000000</td>\n",
       "      <td>2.540000</td>\n",
       "      <td>2.070000</td>\n",
       "      <td>7.000000</td>\n",
       "      <td>48.000000</td>\n",
       "      <td>4150.000000</td>\n",
       "      <td>16.000000</td>\n",
       "      <td>20.000000</td>\n",
       "      <td>5118.000000</td>\n",
       "    </tr>\n",
       "    <tr>\n",
       "      <th>25%</th>\n",
       "      <td>54.250000</td>\n",
       "      <td>0.000000</td>\n",
       "      <td>2.000000</td>\n",
       "      <td>94.500000</td>\n",
       "      <td>166.300000</td>\n",
       "      <td>64.000000</td>\n",
       "      <td>52.000000</td>\n",
       "      <td>2128.000000</td>\n",
       "      <td>4.000000</td>\n",
       "      <td>97.000000</td>\n",
       "      <td>3.130000</td>\n",
       "      <td>3.127500</td>\n",
       "      <td>8.700000</td>\n",
       "      <td>70.000000</td>\n",
       "      <td>4800.000000</td>\n",
       "      <td>21.000000</td>\n",
       "      <td>26.000000</td>\n",
       "      <td>7701.250000</td>\n",
       "    </tr>\n",
       "    <tr>\n",
       "      <th>50%</th>\n",
       "      <td>106.500000</td>\n",
       "      <td>1.000000</td>\n",
       "      <td>4.000000</td>\n",
       "      <td>96.500000</td>\n",
       "      <td>172.500000</td>\n",
       "      <td>65.400000</td>\n",
       "      <td>54.100000</td>\n",
       "      <td>2395.000000</td>\n",
       "      <td>4.000000</td>\n",
       "      <td>110.000000</td>\n",
       "      <td>3.270000</td>\n",
       "      <td>3.290000</td>\n",
       "      <td>9.000000</td>\n",
       "      <td>92.000000</td>\n",
       "      <td>5200.000000</td>\n",
       "      <td>25.000000</td>\n",
       "      <td>31.000000</td>\n",
       "      <td>9959.500000</td>\n",
       "    </tr>\n",
       "    <tr>\n",
       "      <th>75%</th>\n",
       "      <td>157.750000</td>\n",
       "      <td>2.000000</td>\n",
       "      <td>4.000000</td>\n",
       "      <td>100.400000</td>\n",
       "      <td>178.350000</td>\n",
       "      <td>66.500000</td>\n",
       "      <td>55.500000</td>\n",
       "      <td>2823.750000</td>\n",
       "      <td>4.000000</td>\n",
       "      <td>136.000000</td>\n",
       "      <td>3.540000</td>\n",
       "      <td>3.410000</td>\n",
       "      <td>9.400000</td>\n",
       "      <td>114.000000</td>\n",
       "      <td>5500.000000</td>\n",
       "      <td>31.000000</td>\n",
       "      <td>37.000000</td>\n",
       "      <td>15197.500000</td>\n",
       "    </tr>\n",
       "    <tr>\n",
       "      <th>max</th>\n",
       "      <td>205.000000</td>\n",
       "      <td>3.000000</td>\n",
       "      <td>4.000000</td>\n",
       "      <td>114.200000</td>\n",
       "      <td>198.900000</td>\n",
       "      <td>71.400000</td>\n",
       "      <td>59.800000</td>\n",
       "      <td>3750.000000</td>\n",
       "      <td>6.000000</td>\n",
       "      <td>183.000000</td>\n",
       "      <td>3.940000</td>\n",
       "      <td>3.900000</td>\n",
       "      <td>23.000000</td>\n",
       "      <td>200.000000</td>\n",
       "      <td>6600.000000</td>\n",
       "      <td>49.000000</td>\n",
       "      <td>54.000000</td>\n",
       "      <td>28248.000000</td>\n",
       "    </tr>\n",
       "  </tbody>\n",
       "</table>\n",
       "</div>"
      ],
      "text/plain": [
       "           car_ID   symboling  doornumber   wheelbase   carlength    carwidth  \\\n",
       "count  190.000000  190.000000  190.000000  190.000000  190.000000  190.000000   \n",
       "mean   105.463158    0.836842    3.136842   98.276316  172.811579   65.635263   \n",
       "std     59.925052    1.230009    0.993210    5.280965   11.375806    1.844961   \n",
       "min      1.000000   -2.000000    2.000000   86.600000  141.100000   60.300000   \n",
       "25%     54.250000    0.000000    2.000000   94.500000  166.300000   64.000000   \n",
       "50%    106.500000    1.000000    4.000000   96.500000  172.500000   65.400000   \n",
       "75%    157.750000    2.000000    4.000000  100.400000  178.350000   66.500000   \n",
       "max    205.000000    3.000000    4.000000  114.200000  198.900000   71.400000   \n",
       "\n",
       "        carheight   curbweight  cylindernumber  enginesize   boreratio  \\\n",
       "count  190.000000   190.000000      190.000000  190.000000  190.000000   \n",
       "mean    53.755263  2480.031579        4.173684  118.415789    3.303579   \n",
       "std      2.425645   445.890595        0.671681   26.854315    0.261671   \n",
       "min     48.800000  1488.000000        2.000000   61.000000    2.540000   \n",
       "25%     52.000000  2128.000000        4.000000   97.000000    3.130000   \n",
       "50%     54.100000  2395.000000        4.000000  110.000000    3.270000   \n",
       "75%     55.500000  2823.750000        4.000000  136.000000    3.540000   \n",
       "max     59.800000  3750.000000        6.000000  183.000000    3.940000   \n",
       "\n",
       "           stroke  compressionratio  horsepower      peakrpm     citympg  \\\n",
       "count  190.000000        190.000000  190.000000   190.000000  190.000000   \n",
       "mean     3.251263         10.183789   97.231579  5124.473684   25.947368   \n",
       "std      0.304045          4.015859   30.225940   471.593591    6.212921   \n",
       "min      2.070000          7.000000   48.000000  4150.000000   16.000000   \n",
       "25%      3.127500          8.700000   70.000000  4800.000000   21.000000   \n",
       "50%      3.290000          9.000000   92.000000  5200.000000   25.000000   \n",
       "75%      3.410000          9.400000  114.000000  5500.000000   31.000000   \n",
       "max      3.900000         23.000000  200.000000  6600.000000   49.000000   \n",
       "\n",
       "       highwaympg         price  \n",
       "count  190.000000    190.000000  \n",
       "mean    31.521053  11509.400879  \n",
       "std      6.476419   4968.444389  \n",
       "min     20.000000   5118.000000  \n",
       "25%     26.000000   7701.250000  \n",
       "50%     31.000000   9959.500000  \n",
       "75%     37.000000  15197.500000  \n",
       "max     54.000000  28248.000000  "
      ]
     },
     "execution_count": 95,
     "metadata": {},
     "output_type": "execute_result"
    }
   ],
   "source": [
    "df.describe()"
   ]
  },
  {
   "cell_type": "markdown",
   "id": "e2b2a9c1",
   "metadata": {},
   "source": [
    "### carmaker: Hang xe"
   ]
  },
  {
   "cell_type": "code",
   "execution_count": 96,
   "id": "a29ebace",
   "metadata": {},
   "outputs": [
    {
     "data": {
      "image/png": "[encoded data removed]",
      "text/plain": [
       "<Figure size 1152x648 with 1 Axes>"
      ]
     },
     "metadata": {
      "needs_background": "light"
     },
     "output_type": "display_data"
    }
   ],
   "source": [
    "# biểu đồ hãng xe với trung binh price\n",
    "fig, ax = plt.subplots(figsize=(16, 9))\n",
    "df.groupby('carmaker')['price'].mean().plot.barh()\n",
    "for i in ax.patches:\n",
    "    plt.text(i.get_width()+0.2, i.get_y(),\n",
    "             str(round((i.get_width()), 2)),\n",
    "             fontsize = 13, fontweight ='bold',\n",
    "             color ='grey')"
   ]
  },
  {
   "cell_type": "code",
   "execution_count": 97,
   "id": "e520984c",
   "metadata": {},
   "outputs": [
    {
     "data": {
      "image/png": "[encoded data removed]",
      "text/plain": [
       "<Figure size 1152x648 with 1 Axes>"
      ]
     },
     "metadata": {
      "needs_background": "light"
     },
     "output_type": "display_data"
    }
   ],
   "source": [
    "# mức độ an toàn với pcrice\n",
    "fig, ax = plt.subplots(figsize=(16, 9))\n",
    "df.groupby('symboling')['price'].mean().plot.barh()\n",
    "for i in ax.patches:\n",
    "    plt.text(i.get_width()+0.2, i.get_y(),\n",
    "             str(round((i.get_width()), 2)),\n",
    "             fontsize = 13, fontweight ='bold',\n",
    "             color ='grey')\n"
   ]
  },
  {
   "cell_type": "code",
   "execution_count": 98,
   "id": "a0347476",
   "metadata": {},
   "outputs": [
    {
     "data": {
      "text/plain": [
       "<AxesSubplot:ylabel='fueltype'>"
      ]
     },
     "execution_count": 98,
     "metadata": {},
     "output_type": "execute_result"
    },
    {
     "data": {
      "image/png": "[encoded data removed]",
      "text/plain": [
       "<Figure size 432x288 with 1 Axes>"
      ]
     },
     "metadata": {
      "needs_background": "light"
     },
     "output_type": "display_data"
    }
   ],
   "source": [
    "# loại nhiên liệu (dầu hoặc xăng với price)\n",
    "df.groupby('fueltype')['price'].mean().plot.barh()"
   ]
  },
  {
   "cell_type": "code",
   "execution_count": 99,
   "id": "82762852",
   "metadata": {},
   "outputs": [
    {
     "data": {
      "text/plain": [
       "<BarContainer object of 190 artists>"
      ]
     },
     "execution_count": 99,
     "metadata": {},
     "output_type": "execute_result"
    },
    {
     "data": {
      "image/png": "[encoded data removed]",
      "text/plain": [
       "<Figure size 432x288 with 1 Axes>"
      ]
     },
     "metadata": {
      "needs_background": "light"
     },
     "output_type": "display_data"
    }
   ],
   "source": [
    "# loại hút với price\n",
    "plt.barh(df['aspiration'],df['price'])"
   ]
  },
  {
   "cell_type": "code",
   "execution_count": 100,
   "id": "ef7ca578",
   "metadata": {},
   "outputs": [
    {
     "data": {
      "text/plain": [
       "<seaborn.axisgrid.FacetGrid at 0x15292745040>"
      ]
     },
     "execution_count": 100,
     "metadata": {},
     "output_type": "execute_result"
    },
    {
     "data": {
      "image/png": "[encoded data removed]",
      "text/plain": [
       "<Figure size 360x360 with 1 Axes>"
      ]
     },
     "metadata": {
      "needs_background": "light"
     },
     "output_type": "display_data"
    }
   ],
   "source": [
    "# số lượng cửa với price\n",
    "sns.lmplot(x='doornumber',y='price',data=df)"
   ]
  },
  {
   "cell_type": "code",
   "execution_count": 101,
   "id": "8a1156cd",
   "metadata": {},
   "outputs": [
    {
     "data": {
      "text/plain": [
       "<BarContainer object of 190 artists>"
      ]
     },
     "execution_count": 101,
     "metadata": {},
     "output_type": "execute_result"
    },
    {
     "data": {
      "image/png": "[encoded data removed]",
      "text/plain": [
       "<Figure size 432x288 with 1 Axes>"
      ]
     },
     "metadata": {
      "needs_background": "light"
     },
     "output_type": "display_data"
    }
   ],
   "source": [
    "plt.barh(df['doornumber'],df['price'])"
   ]
  },
  {
   "cell_type": "code",
   "execution_count": 102,
   "id": "407bef85",
   "metadata": {},
   "outputs": [
    {
     "data": {
      "text/plain": [
       "(0.14460405219841352, 0.04653030985940012)"
      ]
     },
     "execution_count": 102,
     "metadata": {},
     "output_type": "execute_result"
    }
   ],
   "source": [
    "stats.pearsonr(df['doornumber'],df['price'])"
   ]
  },
  {
   "cell_type": "code",
   "execution_count": 103,
   "id": "1aae8b64",
   "metadata": {},
   "outputs": [
    {
     "data": {
      "text/plain": [
       "<AxesSubplot:ylabel='carbody'>"
      ]
     },
     "execution_count": 103,
     "metadata": {},
     "output_type": "execute_result"
    },
    {
     "data": {
      "image/png": "[encoded data removed]",
      "text/plain": [
       "<Figure size 432x288 with 1 Axes>"
      ]
     },
     "metadata": {
      "needs_background": "light"
     },
     "output_type": "display_data"
    }
   ],
   "source": [
    "# loại thân xe với price\n",
    "df.groupby('carbody')['price'].mean().plot.barh()"
   ]
  },
  {
   "cell_type": "code",
   "execution_count": 104,
   "id": "5849b7ad",
   "metadata": {},
   "outputs": [
    {
     "data": {
      "text/plain": [
       "<BarContainer object of 190 artists>"
      ]
     },
     "execution_count": 104,
     "metadata": {},
     "output_type": "execute_result"
    },
    {
     "data": {
      "image/png": "[encoded data removed]",
      "text/plain": [
       "<Figure size 432x288 with 1 Axes>"
      ]
     },
     "metadata": {
      "needs_background": "light"
     },
     "output_type": "display_data"
    }
   ],
   "source": [
    "# loại bắnh xe với price\n",
    "plt.barh(df['drivewheel'],df['price'])"
   ]
  },
  {
   "cell_type": "code",
   "execution_count": 105,
   "id": "06676372",
   "metadata": {},
   "outputs": [
    {
     "data": {
      "text/plain": [
       "<BarContainer object of 190 artists>"
      ]
     },
     "execution_count": 105,
     "metadata": {},
     "output_type": "execute_result"
    },
    {
     "data": {
      "image/png": "[encoded data removed]",
      "text/plain": [
       "<Figure size 432x288 with 1 Axes>"
      ]
     },
     "metadata": {
      "needs_background": "light"
     },
     "output_type": "display_data"
    }
   ],
   "source": [
    "# vị trí động cơ với price\n",
    "plt.barh(df['enginelocation'],df['price'])"
   ]
  },
  {
   "cell_type": "code",
   "execution_count": 106,
   "id": "e3187a43",
   "metadata": {},
   "outputs": [
    {
     "name": "stderr",
     "output_type": "stream",
     "text": [
      "C:\\Users\\Admin\\AppData\\Local\\Temp\\ipykernel_25872\\2918161995.py:1: SettingWithCopyWarning: \n",
      "A value is trying to be set on a copy of a slice from a DataFrame\n",
      "\n",
      "See the caveats in the documentation: https://pandas.pydata.org/pandas-docs/stable/user_guide/indexing.html#returning-a-view-versus-a-copy\n",
      "  df.drop('enginelocation', axis=1, inplace=True)\n"
     ]
    }
   ],
   "source": [
    "df.drop('enginelocation', axis=1, inplace=True)"
   ]
  },
  {
   "cell_type": "code",
   "execution_count": 107,
   "id": "b75b6315",
   "metadata": {},
   "outputs": [
    {
     "data": {
      "text/plain": [
       "<seaborn.axisgrid.FacetGrid at 0x152926deac0>"
      ]
     },
     "execution_count": 107,
     "metadata": {},
     "output_type": "execute_result"
    },
    {
     "data": {
      "image/png": "[encoded data removed]",
      "text/plain": [
       "<Figure size 360x360 with 1 Axes>"
      ]
     },
     "metadata": {
      "needs_background": "light"
     },
     "output_type": "display_data"
    }
   ],
   "source": [
    "# chiều dài cơ sở\n",
    "sns.lmplot(x='wheelbase',y='price',data=df)"
   ]
  },
  {
   "cell_type": "code",
   "execution_count": 108,
   "id": "7f296f9a",
   "metadata": {},
   "outputs": [
    {
     "data": {
      "text/plain": [
       "(0.6677117963065448, 6.897232697213205e-26)"
      ]
     },
     "execution_count": 108,
     "metadata": {},
     "output_type": "execute_result"
    }
   ],
   "source": [
    "stats.pearsonr(df['wheelbase'],df['price'])"
   ]
  },
  {
   "cell_type": "code",
   "execution_count": 109,
   "id": "b4ce1680",
   "metadata": {},
   "outputs": [
    {
     "data": {
      "text/plain": [
       "<seaborn.axisgrid.FacetGrid at 0x15292e4f790>"
      ]
     },
     "execution_count": 109,
     "metadata": {},
     "output_type": "execute_result"
    },
    {
     "data": {
      "image/png": "[encoded data removed]",
      "text/plain": [
       "<Figure size 360x360 with 1 Axes>"
      ]
     },
     "metadata": {
      "needs_background": "light"
     },
     "output_type": "display_data"
    }
   ],
   "source": [
    "#chiều dài xe\n",
    "sns.lmplot(x='carlength',y='price',data=df)"
   ]
  },
  {
   "cell_type": "code",
   "execution_count": 110,
   "id": "967a48e2",
   "metadata": {},
   "outputs": [
    {
     "data": {
      "text/plain": [
       "(0.7297337652574776, 7.204668945091591e-33)"
      ]
     },
     "execution_count": 110,
     "metadata": {},
     "output_type": "execute_result"
    }
   ],
   "source": [
    "stats.pearsonr(df['carlength'],df['price'])"
   ]
  },
  {
   "cell_type": "code",
   "execution_count": 111,
   "id": "b49e40f3",
   "metadata": {},
   "outputs": [
    {
     "data": {
      "text/plain": [
       "<seaborn.axisgrid.FacetGrid at 0x15292e543d0>"
      ]
     },
     "execution_count": 111,
     "metadata": {},
     "output_type": "execute_result"
    },
    {
     "data": {
      "image/png": "[encoded data removed]",
      "text/plain": [
       "<Figure size 360x360 with 1 Axes>"
      ]
     },
     "metadata": {
      "needs_background": "light"
     },
     "output_type": "display_data"
    }
   ],
   "source": [
    "# chiều rộng xe\n",
    "sns.lmplot(x='carwidth',y='price',data=df)"
   ]
  },
  {
   "cell_type": "code",
   "execution_count": 112,
   "id": "dc826b63",
   "metadata": {},
   "outputs": [
    {
     "data": {
      "text/plain": [
       "(0.7918902323560487, 3.9358012690776275e-42)"
      ]
     },
     "execution_count": 112,
     "metadata": {},
     "output_type": "execute_result"
    }
   ],
   "source": [
    "stats.pearsonr(df['carwidth'],df['price'])"
   ]
  },
  {
   "cell_type": "code",
   "execution_count": 113,
   "id": "90a010b1",
   "metadata": {},
   "outputs": [
    {
     "data": {
      "text/plain": [
       "<seaborn.axisgrid.FacetGrid at 0x15292ef7850>"
      ]
     },
     "execution_count": 113,
     "metadata": {},
     "output_type": "execute_result"
    },
    {
     "data": {
      "image/png": "[encoded data removed]",
      "text/plain": [
       "<Figure size 360x360 with 1 Axes>"
      ]
     },
     "metadata": {
      "needs_background": "light"
     },
     "output_type": "display_data"
    }
   ],
   "source": [
    "#chiều cao xe\n",
    "sns.lmplot(x='carheight',y='price',data=df)"
   ]
  },
  {
   "cell_type": "code",
   "execution_count": 114,
   "id": "4a551b4d",
   "metadata": {},
   "outputs": [
    {
     "data": {
      "text/plain": [
       "(0.25456448690272854, 0.00039358875301819023)"
      ]
     },
     "execution_count": 114,
     "metadata": {},
     "output_type": "execute_result"
    }
   ],
   "source": [
    "stats.pearsonr(df['carheight'],df['price'])"
   ]
  },
  {
   "cell_type": "code",
   "execution_count": 115,
   "id": "a585db31",
   "metadata": {},
   "outputs": [
    {
     "data": {
      "text/plain": [
       "<seaborn.axisgrid.FacetGrid at 0x15292f623a0>"
      ]
     },
     "execution_count": 115,
     "metadata": {},
     "output_type": "execute_result"
    },
    {
     "data": {
      "image/png": "[encoded data removed]",
      "text/plain": [
       "<Figure size 360x360 with 1 Axes>"
      ]
     },
     "metadata": {
      "needs_background": "light"
     },
     "output_type": "display_data"
    }
   ],
   "source": [
    "# Trọng lượng của xe khi không có người hoặc hành lý\n",
    "sns.lmplot(x='curbweight',y='price',data=df)"
   ]
  },
  {
   "cell_type": "code",
   "execution_count": 116,
   "id": "d3bcdb43",
   "metadata": {},
   "outputs": [
    {
     "data": {
      "text/plain": [
       "(0.8539514247874567, 3.133280696258635e-55)"
      ]
     },
     "execution_count": 116,
     "metadata": {},
     "output_type": "execute_result"
    }
   ],
   "source": [
    "stats.pearsonr(df['curbweight'],df['price'])"
   ]
  },
  {
   "cell_type": "code",
   "execution_count": 117,
   "id": "a45bf77c",
   "metadata": {},
   "outputs": [
    {
     "data": {
      "text/plain": [
       "<BarContainer object of 190 artists>"
      ]
     },
     "execution_count": 117,
     "metadata": {},
     "output_type": "execute_result"
    },
    {
     "data": {
      "image/png": "[encoded data removed]",
      "text/plain": [
       "<Figure size 432x288 with 1 Axes>"
      ]
     },
     "metadata": {
      "needs_background": "light"
     },
     "output_type": "display_data"
    }
   ],
   "source": [
    "#Loại động cơ\n",
    "plt.bar(df['enginetype'],df['price'])"
   ]
  },
  {
   "cell_type": "code",
   "execution_count": 118,
   "id": "a33ecb28",
   "metadata": {},
   "outputs": [
    {
     "data": {
      "text/plain": [
       "<seaborn.axisgrid.FacetGrid at 0x15292eb37f0>"
      ]
     },
     "execution_count": 118,
     "metadata": {},
     "output_type": "execute_result"
    },
    {
     "data": {
      "image/png": "[encoded data removed]",
      "text/plain": [
       "<Figure size 360x360 with 1 Axes>"
      ]
     },
     "metadata": {
      "needs_background": "light"
     },
     "output_type": "display_data"
    }
   ],
   "source": [
    "# Số lượng xi lanh đặt trong xe\n",
    "sns.lmplot(x='cylindernumber',y='price',data=df)"
   ]
  },
  {
   "cell_type": "code",
   "execution_count": 119,
   "id": "091dfa26",
   "metadata": {},
   "outputs": [
    {
     "data": {
      "text/plain": [
       "(0.4641964362842276, 1.5222496129265314e-11)"
      ]
     },
     "execution_count": 119,
     "metadata": {},
     "output_type": "execute_result"
    }
   ],
   "source": [
    "stats.pearsonr(df['cylindernumber'],df['price'])"
   ]
  },
  {
   "cell_type": "code",
   "execution_count": 120,
   "id": "7093ad79",
   "metadata": {},
   "outputs": [
    {
     "data": {
      "text/plain": [
       "<seaborn.axisgrid.FacetGrid at 0x15292fa0610>"
      ]
     },
     "execution_count": 120,
     "metadata": {},
     "output_type": "execute_result"
    },
    {
     "data": {
      "image/png": "[encoded data removed]",
      "text/plain": [
       "<Figure size 360x360 with 1 Axes>"
      ]
     },
     "metadata": {
      "needs_background": "light"
     },
     "output_type": "display_data"
    }
   ],
   "source": [
    "# Kích thước động cơ\n",
    "sns.lmplot(x='enginesize',y='price',data=df)"
   ]
  },
  {
   "cell_type": "code",
   "execution_count": 121,
   "id": "0dd4df36",
   "metadata": {},
   "outputs": [
    {
     "data": {
      "text/plain": [
       "(0.7498829028178291, 1.431697564661105e-35)"
      ]
     },
     "execution_count": 121,
     "metadata": {},
     "output_type": "execute_result"
    }
   ],
   "source": [
    "stats.pearsonr(df['enginesize'],df['price'])"
   ]
  },
  {
   "cell_type": "code",
   "execution_count": 122,
   "id": "2137d69b",
   "metadata": {},
   "outputs": [
    {
     "data": {
      "text/plain": [
       "<BarContainer object of 190 artists>"
      ]
     },
     "execution_count": 122,
     "metadata": {},
     "output_type": "execute_result"
    },
    {
     "data": {
      "image/png": "[encoded data removed]",
      "text/plain": [
       "<Figure size 432x288 with 1 Axes>"
      ]
     },
     "metadata": {
      "needs_background": "light"
     },
     "output_type": "display_data"
    }
   ],
   "source": [
    "# Hệ thống nhiên liệu của xe ô tô\n",
    "plt.barh(df['fuelsystem'],df['price'])"
   ]
  },
  {
   "cell_type": "code",
   "execution_count": 123,
   "id": "1326666f",
   "metadata": {},
   "outputs": [
    {
     "data": {
      "text/plain": [
       "<seaborn.axisgrid.FacetGrid at 0x1529447b940>"
      ]
     },
     "execution_count": 123,
     "metadata": {},
     "output_type": "execute_result"
    },
    {
     "data": {
      "image/png": "[encoded data removed]",
      "text/plain": [
       "<Figure size 360x360 with 1 Axes>"
      ]
     },
     "metadata": {
      "needs_background": "light"
     },
     "output_type": "display_data"
    }
   ],
   "source": [
    "# Tỉ số hành trình\n",
    "sns.lmplot(x='boreratio',y='price',data=df)"
   ]
  },
  {
   "cell_type": "code",
   "execution_count": 124,
   "id": "d53e6155",
   "metadata": {},
   "outputs": [
    {
     "data": {
      "text/plain": [
       "(0.4992437508029533, 2.2709501111060972e-13)"
      ]
     },
     "execution_count": 124,
     "metadata": {},
     "output_type": "execute_result"
    }
   ],
   "source": [
    "stats.pearsonr(df['boreratio'],df['price'])"
   ]
  },
  {
   "cell_type": "code",
   "execution_count": 125,
   "id": "1e8bf63d",
   "metadata": {},
   "outputs": [
    {
     "data": {
      "text/plain": [
       "<seaborn.axisgrid.FacetGrid at 0x1529449fe50>"
      ]
     },
     "execution_count": 125,
     "metadata": {},
     "output_type": "execute_result"
    },
    {
     "data": {
      "image/png": "[encoded data removed]",
      "text/plain": [
       "<Figure size 360x360 with 1 Axes>"
      ]
     },
     "metadata": {
      "needs_background": "light"
     },
     "output_type": "display_data"
    }
   ],
   "source": [
    "#số kỳ hoăc kích thước bên trong động cơ\n",
    "sns.lmplot(x='stroke',y='price',data=df)"
   ]
  },
  {
   "cell_type": "code",
   "execution_count": 126,
   "id": "51be407d",
   "metadata": {},
   "outputs": [
    {
     "data": {
      "text/plain": [
       "(0.0793782060981167, 0.2763075615599032)"
      ]
     },
     "execution_count": 126,
     "metadata": {},
     "output_type": "execute_result"
    }
   ],
   "source": [
    "stats.pearsonr(df['stroke'],df['price'])"
   ]
  },
  {
   "cell_type": "code",
   "execution_count": 127,
   "id": "e4287794",
   "metadata": {},
   "outputs": [
    {
     "data": {
      "text/plain": [
       "<seaborn.axisgrid.FacetGrid at 0x15294550ee0>"
      ]
     },
     "execution_count": 127,
     "metadata": {},
     "output_type": "execute_result"
    },
    {
     "data": {
      "image/png": "[encoded data removed]",
      "text/plain": [
       "<Figure size 360x360 with 1 Axes>"
      ]
     },
     "metadata": {
      "needs_background": "light"
     },
     "output_type": "display_data"
    }
   ],
   "source": [
    "# Tỉ số nén của ôtô\n",
    "sns.lmplot(x='compressionratio',y='price',data=df)"
   ]
  },
  {
   "cell_type": "code",
   "execution_count": 128,
   "id": "17e98a83",
   "metadata": {},
   "outputs": [
    {
     "data": {
      "text/plain": [
       "(0.18500680566470973, 0.010606184849350702)"
      ]
     },
     "execution_count": 128,
     "metadata": {},
     "output_type": "execute_result"
    }
   ],
   "source": [
    "stats.pearsonr(df['compressionratio'],df['price'])"
   ]
  },
  {
   "cell_type": "code",
   "execution_count": 129,
   "id": "517d8843",
   "metadata": {},
   "outputs": [
    {
     "data": {
      "text/plain": [
       "<seaborn.axisgrid.FacetGrid at 0x1529454b6d0>"
      ]
     },
     "execution_count": 129,
     "metadata": {},
     "output_type": "execute_result"
    },
    {
     "data": {
      "image/png": "[encoded data removed]",
      "text/plain": [
       "<Figure size 360x360 with 1 Axes>"
      ]
     },
     "metadata": {
      "needs_background": "light"
     },
     "output_type": "display_data"
    }
   ],
   "source": [
    "# Mã lực\n",
    "sns.lmplot(x='horsepower',y='price',data=df)"
   ]
  },
  {
   "cell_type": "code",
   "execution_count": 130,
   "id": "51b1c2d9",
   "metadata": {},
   "outputs": [
    {
     "data": {
      "text/plain": [
       "(0.7273936920568058, 1.431075106717961e-32)"
      ]
     },
     "execution_count": 130,
     "metadata": {},
     "output_type": "execute_result"
    }
   ],
   "source": [
    "stats.pearsonr(df['horsepower'],df['price'])"
   ]
  },
  {
   "cell_type": "code",
   "execution_count": 131,
   "id": "0210cb9a",
   "metadata": {},
   "outputs": [
    {
     "data": {
      "text/plain": [
       "<seaborn.axisgrid.FacetGrid at 0x1529462cd00>"
      ]
     },
     "execution_count": 131,
     "metadata": {},
     "output_type": "execute_result"
    },
    {
     "data": {
      "image/png": "[encoded data removed]",
      "text/plain": [
       "<Figure size 360x360 with 1 Axes>"
      ]
     },
     "metadata": {
      "needs_background": "light"
     },
     "output_type": "display_data"
    }
   ],
   "source": [
    "# Tốc độ động cơ cao nhất\n",
    "sns.lmplot(x='peakrpm',y='price',data=df)"
   ]
  },
  {
   "cell_type": "code",
   "execution_count": 132,
   "id": "b12cf445",
   "metadata": {},
   "outputs": [
    {
     "data": {
      "text/plain": [
       "(-0.13618945993531645, 0.06098650255381347)"
      ]
     },
     "execution_count": 132,
     "metadata": {},
     "output_type": "execute_result"
    }
   ],
   "source": [
    "stats.pearsonr(df['peakrpm'],df['price'])"
   ]
  },
  {
   "cell_type": "code",
   "execution_count": 133,
   "id": "08951ec7",
   "metadata": {},
   "outputs": [
    {
     "data": {
      "text/plain": [
       "<seaborn.axisgrid.FacetGrid at 0x15294684d30>"
      ]
     },
     "execution_count": 133,
     "metadata": {},
     "output_type": "execute_result"
    },
    {
     "data": {
      "image/png": "[encoded data removed]",
      "text/plain": [
       "<Figure size 360x360 with 1 Axes>"
      ]
     },
     "metadata": {
      "needs_background": "light"
     },
     "output_type": "display_data"
    }
   ],
   "source": [
    "# số dặm đi được cho 1 galon (~4.5 l) nhiên liệu trong thành phố\n",
    "sns.lmplot(x='citympg',y='price',data=df)"
   ]
  },
  {
   "cell_type": "code",
   "execution_count": 134,
   "id": "d7412836",
   "metadata": {},
   "outputs": [
    {
     "data": {
      "text/plain": [
       "(-0.6702562037846251, 3.8503318681680853e-26)"
      ]
     },
     "execution_count": 134,
     "metadata": {},
     "output_type": "execute_result"
    }
   ],
   "source": [
    "stats.pearsonr(df['citympg'],df['price'])"
   ]
  },
  {
   "cell_type": "code",
   "execution_count": 135,
   "id": "ef8c169b",
   "metadata": {},
   "outputs": [
    {
     "data": {
      "text/plain": [
       "<seaborn.axisgrid.FacetGrid at 0x152945f3430>"
      ]
     },
     "execution_count": 135,
     "metadata": {},
     "output_type": "execute_result"
    },
    {
     "data": {
      "image/png": "[encoded data removed]",
      "text/plain": [
       "<Figure size 360x360 with 1 Axes>"
      ]
     },
     "metadata": {
      "needs_background": "light"
     },
     "output_type": "display_data"
    }
   ],
   "source": [
    "# số dặm đi được cho 1 galon (~4.5 l) nhiên liệu trên đường cao tốc\n",
    "sns.lmplot(x='highwaympg',y='price',data=df)"
   ]
  },
  {
   "cell_type": "code",
   "execution_count": 136,
   "id": "ab0afba0",
   "metadata": {},
   "outputs": [
    {
     "data": {
      "text/plain": [
       "(-0.6861572447033237, 8.804086022363852e-28)"
      ]
     },
     "execution_count": 136,
     "metadata": {},
     "output_type": "execute_result"
    }
   ],
   "source": [
    "stats.pearsonr(df['highwaympg'],df['price'])"
   ]
  },
  {
   "cell_type": "code",
   "execution_count": 137,
   "id": "75a2ce86",
   "metadata": {},
   "outputs": [
    {
     "data": {
      "text/plain": [
       "<AxesSubplot:>"
      ]
     },
     "execution_count": 137,
     "metadata": {},
     "output_type": "execute_result"
    },
    {
     "data": {
      "image/png": "[encoded data removed]",
      "text/plain": [
       "<Figure size 432x288 with 2 Axes>"
      ]
     },
     "metadata": {
      "needs_background": "light"
     },
     "output_type": "display_data"
    }
   ],
   "source": [
    "sns.heatmap(df.corr())"
   ]
  },
  {
   "cell_type": "raw",
   "id": "f44d1520",
   "metadata": {},
   "source": [
    "doornumber: (0.031835265845609674, 0.6504483953299365) (ko)\n",
    "wheelbase: (0.57781559829215, 1.1828204863378005e-19) (trung binh)\n",
    "carlength: (0.6829200156779622, 1.6787066240746602e-29) (manh)\n",
    "carwidth: (0.7593252997415114, 9.627437876120389e-40) (manh)\n",
    "carheight: (0.11933622657049443, 0.08832832352275669) (yeu)\n",
    "curbweight: (0.8353048793372966, 1.2144448264032206e-54) (manh)\n",
    "cylindernumber: (0.7132803708649711, 3.613183887666228e-33) (manh)\n",
    "enginesize: (0.8741448025245117, 1.3547637598648421e-65) (manh)\n",
    "boreratio: (0.5531732367984437, 7.907922278249421e-18) (trung binh)\n",
    "stroke: (0.079443083881931, 0.2575137159091036) (ko)\n",
    "compressionratio: (0.06798350579944265, 0.3327723612238307) (ko)\n",
    "horsepower: (0.8081388225362218, 1.483436573293965e-48) (manh)\n",
    "peakrpm: (-0.08526715027785689, 0.22414123444667824) (ko)\n",
    "citympg: ((-0.6857513360270397, 7.978684249663976e-30) (manh)\n",
    "highwaympg: (-0.6975990916465565, 3.230681380364601e-31) (manh)"
   ]
  },
  {
   "cell_type": "raw",
   "id": "2de1b81c",
   "metadata": {},
   "source": [
    "các thuộc tính ảnh hưởng dến giá: wheelbase,carheight,\n",
    "các thuộc tính ảnh hưởng đến giá nhiều nhất: carlength, carwidth, curbweight, cylindernumber, enginesize, \n",
    "    horsepower, citympg, highwaympg"
   ]
  },
  {
   "cell_type": "code",
   "execution_count": 138,
   "id": "ee0aee75",
   "metadata": {},
   "outputs": [
    {
     "data": {
      "text/html": [
       "<div>\n",
       "<style scoped>\n",
       "    .dataframe tbody tr th:only-of-type {\n",
       "        vertical-align: middle;\n",
       "    }\n",
       "\n",
       "    .dataframe tbody tr th {\n",
       "        vertical-align: top;\n",
       "    }\n",
       "\n",
       "    .dataframe thead th {\n",
       "        text-align: right;\n",
       "    }\n",
       "</style>\n",
       "<table border=\"1\" class=\"dataframe\">\n",
       "  <thead>\n",
       "    <tr style=\"text-align: right;\">\n",
       "      <th></th>\n",
       "      <th>wheelbase</th>\n",
       "      <th>carlength</th>\n",
       "      <th>carwidth</th>\n",
       "      <th>carheight</th>\n",
       "      <th>curbweight</th>\n",
       "      <th>enginesize</th>\n",
       "      <th>boreratio</th>\n",
       "      <th>stroke</th>\n",
       "      <th>compressionratio</th>\n",
       "      <th>horsepower</th>\n",
       "      <th>peakrpm</th>\n",
       "      <th>citympg</th>\n",
       "      <th>highwaympg</th>\n",
       "      <th>price</th>\n",
       "    </tr>\n",
       "  </thead>\n",
       "  <tbody>\n",
       "    <tr>\n",
       "      <th>wheelbase</th>\n",
       "      <td>1.000000</td>\n",
       "      <td>0.859280</td>\n",
       "      <td>0.794353</td>\n",
       "      <td>0.633945</td>\n",
       "      <td>0.780903</td>\n",
       "      <td>0.570260</td>\n",
       "      <td>0.512363</td>\n",
       "      <td>0.055781</td>\n",
       "      <td>0.302991</td>\n",
       "      <td>0.377546</td>\n",
       "      <td>-0.304770</td>\n",
       "      <td>-0.455649</td>\n",
       "      <td>-0.511091</td>\n",
       "      <td>0.667712</td>\n",
       "    </tr>\n",
       "    <tr>\n",
       "      <th>carlength</th>\n",
       "      <td>0.859280</td>\n",
       "      <td>1.000000</td>\n",
       "      <td>0.832535</td>\n",
       "      <td>0.534056</td>\n",
       "      <td>0.869948</td>\n",
       "      <td>0.686552</td>\n",
       "      <td>0.599479</td>\n",
       "      <td>0.059792</td>\n",
       "      <td>0.191597</td>\n",
       "      <td>0.564379</td>\n",
       "      <td>-0.252795</td>\n",
       "      <td>-0.645277</td>\n",
       "      <td>-0.663684</td>\n",
       "      <td>0.729734</td>\n",
       "    </tr>\n",
       "    <tr>\n",
       "      <th>carwidth</th>\n",
       "      <td>0.794353</td>\n",
       "      <td>0.832535</td>\n",
       "      <td>1.000000</td>\n",
       "      <td>0.342674</td>\n",
       "      <td>0.838538</td>\n",
       "      <td>0.698108</td>\n",
       "      <td>0.528538</td>\n",
       "      <td>0.166125</td>\n",
       "      <td>0.229062</td>\n",
       "      <td>0.603085</td>\n",
       "      <td>-0.187687</td>\n",
       "      <td>-0.606134</td>\n",
       "      <td>-0.631884</td>\n",
       "      <td>0.791890</td>\n",
       "    </tr>\n",
       "    <tr>\n",
       "      <th>carheight</th>\n",
       "      <td>0.633945</td>\n",
       "      <td>0.534056</td>\n",
       "      <td>0.342674</td>\n",
       "      <td>1.000000</td>\n",
       "      <td>0.388335</td>\n",
       "      <td>0.178920</td>\n",
       "      <td>0.212620</td>\n",
       "      <td>-0.105190</td>\n",
       "      <td>0.275279</td>\n",
       "      <td>-0.039881</td>\n",
       "      <td>-0.310161</td>\n",
       "      <td>-0.080626</td>\n",
       "      <td>-0.133196</td>\n",
       "      <td>0.254564</td>\n",
       "    </tr>\n",
       "    <tr>\n",
       "      <th>curbweight</th>\n",
       "      <td>0.780903</td>\n",
       "      <td>0.869948</td>\n",
       "      <td>0.838538</td>\n",
       "      <td>0.388335</td>\n",
       "      <td>1.000000</td>\n",
       "      <td>0.837881</td>\n",
       "      <td>0.627042</td>\n",
       "      <td>0.123491</td>\n",
       "      <td>0.207844</td>\n",
       "      <td>0.734304</td>\n",
       "      <td>-0.264091</td>\n",
       "      <td>-0.724138</td>\n",
       "      <td>-0.760200</td>\n",
       "      <td>0.853951</td>\n",
       "    </tr>\n",
       "    <tr>\n",
       "      <th>enginesize</th>\n",
       "      <td>0.570260</td>\n",
       "      <td>0.686552</td>\n",
       "      <td>0.698108</td>\n",
       "      <td>0.178920</td>\n",
       "      <td>0.837881</td>\n",
       "      <td>1.000000</td>\n",
       "      <td>0.579403</td>\n",
       "      <td>0.272543</td>\n",
       "      <td>0.122765</td>\n",
       "      <td>0.757357</td>\n",
       "      <td>-0.331153</td>\n",
       "      <td>-0.609982</td>\n",
       "      <td>-0.625118</td>\n",
       "      <td>0.749883</td>\n",
       "    </tr>\n",
       "    <tr>\n",
       "      <th>boreratio</th>\n",
       "      <td>0.512363</td>\n",
       "      <td>0.599479</td>\n",
       "      <td>0.528538</td>\n",
       "      <td>0.212620</td>\n",
       "      <td>0.627042</td>\n",
       "      <td>0.579403</td>\n",
       "      <td>1.000000</td>\n",
       "      <td>-0.077820</td>\n",
       "      <td>0.023580</td>\n",
       "      <td>0.497082</td>\n",
       "      <td>-0.307256</td>\n",
       "      <td>-0.526432</td>\n",
       "      <td>-0.543197</td>\n",
       "      <td>0.499244</td>\n",
       "    </tr>\n",
       "    <tr>\n",
       "      <th>stroke</th>\n",
       "      <td>0.055781</td>\n",
       "      <td>0.059792</td>\n",
       "      <td>0.166125</td>\n",
       "      <td>-0.105190</td>\n",
       "      <td>0.123491</td>\n",
       "      <td>0.272543</td>\n",
       "      <td>-0.077820</td>\n",
       "      <td>1.000000</td>\n",
       "      <td>0.205213</td>\n",
       "      <td>0.140763</td>\n",
       "      <td>-0.012708</td>\n",
       "      <td>-0.028100</td>\n",
       "      <td>-0.015464</td>\n",
       "      <td>0.079378</td>\n",
       "    </tr>\n",
       "    <tr>\n",
       "      <th>compressionratio</th>\n",
       "      <td>0.302991</td>\n",
       "      <td>0.191597</td>\n",
       "      <td>0.229062</td>\n",
       "      <td>0.275279</td>\n",
       "      <td>0.207844</td>\n",
       "      <td>0.122765</td>\n",
       "      <td>0.023580</td>\n",
       "      <td>0.205213</td>\n",
       "      <td>1.000000</td>\n",
       "      <td>-0.234220</td>\n",
       "      <td>-0.451696</td>\n",
       "      <td>0.332195</td>\n",
       "      <td>0.270075</td>\n",
       "      <td>0.185007</td>\n",
       "    </tr>\n",
       "    <tr>\n",
       "      <th>horsepower</th>\n",
       "      <td>0.377546</td>\n",
       "      <td>0.564379</td>\n",
       "      <td>0.603085</td>\n",
       "      <td>-0.039881</td>\n",
       "      <td>0.734304</td>\n",
       "      <td>0.757357</td>\n",
       "      <td>0.497082</td>\n",
       "      <td>0.140763</td>\n",
       "      <td>-0.234220</td>\n",
       "      <td>1.000000</td>\n",
       "      <td>0.115651</td>\n",
       "      <td>-0.813542</td>\n",
       "      <td>-0.802585</td>\n",
       "      <td>0.727394</td>\n",
       "    </tr>\n",
       "    <tr>\n",
       "      <th>peakrpm</th>\n",
       "      <td>-0.304770</td>\n",
       "      <td>-0.252795</td>\n",
       "      <td>-0.187687</td>\n",
       "      <td>-0.310161</td>\n",
       "      <td>-0.264091</td>\n",
       "      <td>-0.331153</td>\n",
       "      <td>-0.307256</td>\n",
       "      <td>-0.012708</td>\n",
       "      <td>-0.451696</td>\n",
       "      <td>0.115651</td>\n",
       "      <td>1.000000</td>\n",
       "      <td>-0.131293</td>\n",
       "      <td>-0.097744</td>\n",
       "      <td>-0.136189</td>\n",
       "    </tr>\n",
       "    <tr>\n",
       "      <th>citympg</th>\n",
       "      <td>-0.455649</td>\n",
       "      <td>-0.645277</td>\n",
       "      <td>-0.606134</td>\n",
       "      <td>-0.080626</td>\n",
       "      <td>-0.724138</td>\n",
       "      <td>-0.609982</td>\n",
       "      <td>-0.526432</td>\n",
       "      <td>-0.028100</td>\n",
       "      <td>0.332195</td>\n",
       "      <td>-0.813542</td>\n",
       "      <td>-0.131293</td>\n",
       "      <td>1.000000</td>\n",
       "      <td>0.972035</td>\n",
       "      <td>-0.670256</td>\n",
       "    </tr>\n",
       "    <tr>\n",
       "      <th>highwaympg</th>\n",
       "      <td>-0.511091</td>\n",
       "      <td>-0.663684</td>\n",
       "      <td>-0.631884</td>\n",
       "      <td>-0.133196</td>\n",
       "      <td>-0.760200</td>\n",
       "      <td>-0.625118</td>\n",
       "      <td>-0.543197</td>\n",
       "      <td>-0.015464</td>\n",
       "      <td>0.270075</td>\n",
       "      <td>-0.802585</td>\n",
       "      <td>-0.097744</td>\n",
       "      <td>0.972035</td>\n",
       "      <td>1.000000</td>\n",
       "      <td>-0.686157</td>\n",
       "    </tr>\n",
       "    <tr>\n",
       "      <th>price</th>\n",
       "      <td>0.667712</td>\n",
       "      <td>0.729734</td>\n",
       "      <td>0.791890</td>\n",
       "      <td>0.254564</td>\n",
       "      <td>0.853951</td>\n",
       "      <td>0.749883</td>\n",
       "      <td>0.499244</td>\n",
       "      <td>0.079378</td>\n",
       "      <td>0.185007</td>\n",
       "      <td>0.727394</td>\n",
       "      <td>-0.136189</td>\n",
       "      <td>-0.670256</td>\n",
       "      <td>-0.686157</td>\n",
       "      <td>1.000000</td>\n",
       "    </tr>\n",
       "  </tbody>\n",
       "</table>\n",
       "</div>"
      ],
      "text/plain": [
       "                  wheelbase  carlength  carwidth  carheight  curbweight  \\\n",
       "wheelbase          1.000000   0.859280  0.794353   0.633945    0.780903   \n",
       "carlength          0.859280   1.000000  0.832535   0.534056    0.869948   \n",
       "carwidth           0.794353   0.832535  1.000000   0.342674    0.838538   \n",
       "carheight          0.633945   0.534056  0.342674   1.000000    0.388335   \n",
       "curbweight         0.780903   0.869948  0.838538   0.388335    1.000000   \n",
       "enginesize         0.570260   0.686552  0.698108   0.178920    0.837881   \n",
       "boreratio          0.512363   0.599479  0.528538   0.212620    0.627042   \n",
       "stroke             0.055781   0.059792  0.166125  -0.105190    0.123491   \n",
       "compressionratio   0.302991   0.191597  0.229062   0.275279    0.207844   \n",
       "horsepower         0.377546   0.564379  0.603085  -0.039881    0.734304   \n",
       "peakrpm           -0.304770  -0.252795 -0.187687  -0.310161   -0.264091   \n",
       "citympg           -0.455649  -0.645277 -0.606134  -0.080626   -0.724138   \n",
       "highwaympg        -0.511091  -0.663684 -0.631884  -0.133196   -0.760200   \n",
       "price              0.667712   0.729734  0.791890   0.254564    0.853951   \n",
       "\n",
       "                  enginesize  boreratio    stroke  compressionratio  \\\n",
       "wheelbase           0.570260   0.512363  0.055781          0.302991   \n",
       "carlength           0.686552   0.599479  0.059792          0.191597   \n",
       "carwidth            0.698108   0.528538  0.166125          0.229062   \n",
       "carheight           0.178920   0.212620 -0.105190          0.275279   \n",
       "curbweight          0.837881   0.627042  0.123491          0.207844   \n",
       "enginesize          1.000000   0.579403  0.272543          0.122765   \n",
       "boreratio           0.579403   1.000000 -0.077820          0.023580   \n",
       "stroke              0.272543  -0.077820  1.000000          0.205213   \n",
       "compressionratio    0.122765   0.023580  0.205213          1.000000   \n",
       "horsepower          0.757357   0.497082  0.140763         -0.234220   \n",
       "peakrpm            -0.331153  -0.307256 -0.012708         -0.451696   \n",
       "citympg            -0.609982  -0.526432 -0.028100          0.332195   \n",
       "highwaympg         -0.625118  -0.543197 -0.015464          0.270075   \n",
       "price               0.749883   0.499244  0.079378          0.185007   \n",
       "\n",
       "                  horsepower   peakrpm   citympg  highwaympg     price  \n",
       "wheelbase           0.377546 -0.304770 -0.455649   -0.511091  0.667712  \n",
       "carlength           0.564379 -0.252795 -0.645277   -0.663684  0.729734  \n",
       "carwidth            0.603085 -0.187687 -0.606134   -0.631884  0.791890  \n",
       "carheight          -0.039881 -0.310161 -0.080626   -0.133196  0.254564  \n",
       "curbweight          0.734304 -0.264091 -0.724138   -0.760200  0.853951  \n",
       "enginesize          0.757357 -0.331153 -0.609982   -0.625118  0.749883  \n",
       "boreratio           0.497082 -0.307256 -0.526432   -0.543197  0.499244  \n",
       "stroke              0.140763 -0.012708 -0.028100   -0.015464  0.079378  \n",
       "compressionratio   -0.234220 -0.451696  0.332195    0.270075  0.185007  \n",
       "horsepower          1.000000  0.115651 -0.813542   -0.802585  0.727394  \n",
       "peakrpm             0.115651  1.000000 -0.131293   -0.097744 -0.136189  \n",
       "citympg            -0.813542 -0.131293  1.000000    0.972035 -0.670256  \n",
       "highwaympg         -0.802585 -0.097744  0.972035    1.000000 -0.686157  \n",
       "price               0.727394 -0.136189 -0.670256   -0.686157  1.000000  "
      ]
     },
     "execution_count": 138,
     "metadata": {},
     "output_type": "execute_result"
    }
   ],
   "source": [
    "df1 = df[['wheelbase','carlength','carwidth','carheight','curbweight','enginesize','boreratio','stroke','compressionratio','horsepower','peakrpm','citympg','highwaympg','price']]\n",
    "corr_df1=df1.corr()\n",
    "corr_df1"
   ]
  },
  {
   "cell_type": "code",
   "execution_count": 139,
   "id": "71acc711",
   "metadata": {},
   "outputs": [
    {
     "data": {
      "text/plain": [
       "<AxesSubplot:>"
      ]
     },
     "execution_count": 139,
     "metadata": {},
     "output_type": "execute_result"
    },
    {
     "data": {
      "image/png": "[encoded data removed]",
      "text/plain": [
       "<Figure size 432x288 with 2 Axes>"
      ]
     },
     "metadata": {
      "needs_background": "light"
     },
     "output_type": "display_data"
    }
   ],
   "source": [
    "sns.heatmap(corr_df1)"
   ]
  },
  {
   "cell_type": "code",
   "execution_count": 140,
   "id": "fd84c3d7",
   "metadata": {},
   "outputs": [
    {
     "data": {
      "text/plain": [
       "['carlength', 'carwidth', 'curbweight', 'enginesize', 'horsepower']"
      ]
     },
     "execution_count": 140,
     "metadata": {},
     "output_type": "execute_result"
    }
   ],
   "source": [
    "bien_dl = list()\n",
    "for i in corr_df1.index:\n",
    "    if i!='price':\n",
    "        if np.abs(corr_df1['price'][i]) >= 0.7:\n",
    "            bien_dl.append(i)\n",
    "bien_dl"
   ]
  },
  {
   "cell_type": "code",
   "execution_count": 141,
   "id": "176ca8e0",
   "metadata": {},
   "outputs": [],
   "source": [
    "# Xây dựng mô hình hồi quy tuyến tính trên các biến được chọn bởi phương pháp feature selection.\n",
    "bien_dt = ['symboling','enc_carmaker','enc_aspiration','enc_carbody','enc_drivewheel','cylindernumber','carlength']"
   ]
  },
  {
   "cell_type": "code",
   "execution_count": 142,
   "id": "9a3137a3",
   "metadata": {},
   "outputs": [
    {
     "data": {
      "text/plain": [
       "['carlength',\n",
       " 'carwidth',\n",
       " 'curbweight',\n",
       " 'enginesize',\n",
       " 'horsepower',\n",
       " 'symboling',\n",
       " 'enc_carmaker',\n",
       " 'enc_aspiration',\n",
       " 'enc_carbody',\n",
       " 'enc_drivewheel',\n",
       " 'cylindernumber',\n",
       " 'carlength',\n",
       " 'price']"
      ]
     },
     "execution_count": 142,
     "metadata": {},
     "output_type": "execute_result"
    }
   ],
   "source": [
    "bien_tq = bien_dl+bien_dt+['price']\n",
    "bien_tq"
   ]
  },
  {
   "cell_type": "code",
   "execution_count": 143,
   "id": "6e21578b",
   "metadata": {},
   "outputs": [
    {
     "name": "stdout",
     "output_type": "stream",
     "text": [
      "<class 'pandas.core.frame.DataFrame'>\n",
      "Int64Index: 190 entries, 0 to 204\n",
      "Data columns (total 26 columns):\n",
      " #   Column            Non-Null Count  Dtype  \n",
      "---  ------            --------------  -----  \n",
      " 0   car_ID            190 non-null    int64  \n",
      " 1   symboling         190 non-null    int64  \n",
      " 2   CarName           190 non-null    object \n",
      " 3   fueltype          190 non-null    object \n",
      " 4   aspiration        190 non-null    object \n",
      " 5   doornumber        190 non-null    int64  \n",
      " 6   carbody           190 non-null    object \n",
      " 7   drivewheel        190 non-null    object \n",
      " 8   wheelbase         190 non-null    float64\n",
      " 9   carlength         190 non-null    float64\n",
      " 10  carwidth          190 non-null    float64\n",
      " 11  carheight         190 non-null    float64\n",
      " 12  curbweight        190 non-null    int64  \n",
      " 13  enginetype        190 non-null    object \n",
      " 14  cylindernumber    190 non-null    int64  \n",
      " 15  enginesize        190 non-null    int64  \n",
      " 16  fuelsystem        190 non-null    object \n",
      " 17  boreratio         190 non-null    float64\n",
      " 18  stroke            190 non-null    float64\n",
      " 19  compressionratio  190 non-null    float64\n",
      " 20  horsepower        190 non-null    int64  \n",
      " 21  peakrpm           190 non-null    int64  \n",
      " 22  citympg           190 non-null    int64  \n",
      " 23  highwaympg        190 non-null    int64  \n",
      " 24  price             190 non-null    float64\n",
      " 25  carmaker          190 non-null    object \n",
      "dtypes: float64(8), int64(10), object(8)\n",
      "memory usage: 40.1+ KB\n"
     ]
    }
   ],
   "source": [
    "df.info()"
   ]
  },
  {
   "cell_type": "code",
   "execution_count": 144,
   "id": "aa7e2984",
   "metadata": {},
   "outputs": [
    {
     "name": "stderr",
     "output_type": "stream",
     "text": [
      "C:\\Users\\Admin\\AppData\\Local\\Temp\\ipykernel_25872\\1065717055.py:1: SettingWithCopyWarning: \n",
      "A value is trying to be set on a copy of a slice from a DataFrame.\n",
      "Try using .loc[row_indexer,col_indexer] = value instead\n",
      "\n",
      "See the caveats in the documentation: https://pandas.pydata.org/pandas-docs/stable/user_guide/indexing.html#returning-a-view-versus-a-copy\n",
      "  df['enc_fueltype'] = encoder.fit_transform(df['fueltype'])\n",
      "C:\\Users\\Admin\\AppData\\Local\\Temp\\ipykernel_25872\\1065717055.py:2: SettingWithCopyWarning: \n",
      "A value is trying to be set on a copy of a slice from a DataFrame.\n",
      "Try using .loc[row_indexer,col_indexer] = value instead\n",
      "\n",
      "See the caveats in the documentation: https://pandas.pydata.org/pandas-docs/stable/user_guide/indexing.html#returning-a-view-versus-a-copy\n",
      "  df['enc_aspiration'] = encoder.fit_transform(df['aspiration'])\n",
      "C:\\Users\\Admin\\AppData\\Local\\Temp\\ipykernel_25872\\1065717055.py:3: SettingWithCopyWarning: \n",
      "A value is trying to be set on a copy of a slice from a DataFrame.\n",
      "Try using .loc[row_indexer,col_indexer] = value instead\n",
      "\n",
      "See the caveats in the documentation: https://pandas.pydata.org/pandas-docs/stable/user_guide/indexing.html#returning-a-view-versus-a-copy\n",
      "  df['enc_carbody'] = encoder.fit_transform(df['carbody'])\n",
      "C:\\Users\\Admin\\AppData\\Local\\Temp\\ipykernel_25872\\1065717055.py:4: SettingWithCopyWarning: \n",
      "A value is trying to be set on a copy of a slice from a DataFrame.\n",
      "Try using .loc[row_indexer,col_indexer] = value instead\n",
      "\n",
      "See the caveats in the documentation: https://pandas.pydata.org/pandas-docs/stable/user_guide/indexing.html#returning-a-view-versus-a-copy\n",
      "  df['enc_drivewheel'] = encoder.fit_transform(df['drivewheel'])\n",
      "C:\\Users\\Admin\\AppData\\Local\\Temp\\ipykernel_25872\\1065717055.py:5: SettingWithCopyWarning: \n",
      "A value is trying to be set on a copy of a slice from a DataFrame.\n",
      "Try using .loc[row_indexer,col_indexer] = value instead\n",
      "\n",
      "See the caveats in the documentation: https://pandas.pydata.org/pandas-docs/stable/user_guide/indexing.html#returning-a-view-versus-a-copy\n",
      "  df['enc_enginetype'] = encoder.fit_transform(df['enginetype'])\n",
      "C:\\Users\\Admin\\AppData\\Local\\Temp\\ipykernel_25872\\1065717055.py:6: SettingWithCopyWarning: \n",
      "A value is trying to be set on a copy of a slice from a DataFrame.\n",
      "Try using .loc[row_indexer,col_indexer] = value instead\n",
      "\n",
      "See the caveats in the documentation: https://pandas.pydata.org/pandas-docs/stable/user_guide/indexing.html#returning-a-view-versus-a-copy\n",
      "  df['enc_fuelsystem'] = encoder.fit_transform(df['fuelsystem'])\n",
      "C:\\Users\\Admin\\AppData\\Local\\Temp\\ipykernel_25872\\1065717055.py:7: SettingWithCopyWarning: \n",
      "A value is trying to be set on a copy of a slice from a DataFrame.\n",
      "Try using .loc[row_indexer,col_indexer] = value instead\n",
      "\n",
      "See the caveats in the documentation: https://pandas.pydata.org/pandas-docs/stable/user_guide/indexing.html#returning-a-view-versus-a-copy\n",
      "  df['enc_carmaker'] = encoder.fit_transform(df['carmaker'])\n"
     ]
    },
    {
     "data": {
      "text/html": [
       "<div>\n",
       "<style scoped>\n",
       "    .dataframe tbody tr th:only-of-type {\n",
       "        vertical-align: middle;\n",
       "    }\n",
       "\n",
       "    .dataframe tbody tr th {\n",
       "        vertical-align: top;\n",
       "    }\n",
       "\n",
       "    .dataframe thead th {\n",
       "        text-align: right;\n",
       "    }\n",
       "</style>\n",
       "<table border=\"1\" class=\"dataframe\">\n",
       "  <thead>\n",
       "    <tr style=\"text-align: right;\">\n",
       "      <th></th>\n",
       "      <th>car_ID</th>\n",
       "      <th>symboling</th>\n",
       "      <th>CarName</th>\n",
       "      <th>fueltype</th>\n",
       "      <th>aspiration</th>\n",
       "      <th>doornumber</th>\n",
       "      <th>carbody</th>\n",
       "      <th>drivewheel</th>\n",
       "      <th>wheelbase</th>\n",
       "      <th>carlength</th>\n",
       "      <th>...</th>\n",
       "      <th>highwaympg</th>\n",
       "      <th>price</th>\n",
       "      <th>carmaker</th>\n",
       "      <th>enc_fueltype</th>\n",
       "      <th>enc_aspiration</th>\n",
       "      <th>enc_carbody</th>\n",
       "      <th>enc_drivewheel</th>\n",
       "      <th>enc_enginetype</th>\n",
       "      <th>enc_fuelsystem</th>\n",
       "      <th>enc_carmaker</th>\n",
       "    </tr>\n",
       "  </thead>\n",
       "  <tbody>\n",
       "    <tr>\n",
       "      <th>0</th>\n",
       "      <td>1</td>\n",
       "      <td>3</td>\n",
       "      <td>alfa-romero giulia</td>\n",
       "      <td>gas</td>\n",
       "      <td>std</td>\n",
       "      <td>2</td>\n",
       "      <td>convertible</td>\n",
       "      <td>rwd</td>\n",
       "      <td>88.6</td>\n",
       "      <td>168.8</td>\n",
       "      <td>...</td>\n",
       "      <td>27</td>\n",
       "      <td>13495.0</td>\n",
       "      <td>alfa-romero</td>\n",
       "      <td>1</td>\n",
       "      <td>0</td>\n",
       "      <td>0</td>\n",
       "      <td>2</td>\n",
       "      <td>0</td>\n",
       "      <td>5</td>\n",
       "      <td>0</td>\n",
       "    </tr>\n",
       "    <tr>\n",
       "      <th>1</th>\n",
       "      <td>2</td>\n",
       "      <td>3</td>\n",
       "      <td>alfa-romero stelvio</td>\n",
       "      <td>gas</td>\n",
       "      <td>std</td>\n",
       "      <td>2</td>\n",
       "      <td>convertible</td>\n",
       "      <td>rwd</td>\n",
       "      <td>88.6</td>\n",
       "      <td>168.8</td>\n",
       "      <td>...</td>\n",
       "      <td>27</td>\n",
       "      <td>16500.0</td>\n",
       "      <td>alfa-romero</td>\n",
       "      <td>1</td>\n",
       "      <td>0</td>\n",
       "      <td>0</td>\n",
       "      <td>2</td>\n",
       "      <td>0</td>\n",
       "      <td>5</td>\n",
       "      <td>0</td>\n",
       "    </tr>\n",
       "    <tr>\n",
       "      <th>2</th>\n",
       "      <td>3</td>\n",
       "      <td>1</td>\n",
       "      <td>alfa-romero Quadrifoglio</td>\n",
       "      <td>gas</td>\n",
       "      <td>std</td>\n",
       "      <td>2</td>\n",
       "      <td>hatchback</td>\n",
       "      <td>rwd</td>\n",
       "      <td>94.5</td>\n",
       "      <td>171.2</td>\n",
       "      <td>...</td>\n",
       "      <td>26</td>\n",
       "      <td>16500.0</td>\n",
       "      <td>alfa-romero</td>\n",
       "      <td>1</td>\n",
       "      <td>0</td>\n",
       "      <td>2</td>\n",
       "      <td>2</td>\n",
       "      <td>4</td>\n",
       "      <td>5</td>\n",
       "      <td>0</td>\n",
       "    </tr>\n",
       "    <tr>\n",
       "      <th>3</th>\n",
       "      <td>4</td>\n",
       "      <td>2</td>\n",
       "      <td>audi 100 ls</td>\n",
       "      <td>gas</td>\n",
       "      <td>std</td>\n",
       "      <td>4</td>\n",
       "      <td>sedan</td>\n",
       "      <td>fwd</td>\n",
       "      <td>99.8</td>\n",
       "      <td>176.6</td>\n",
       "      <td>...</td>\n",
       "      <td>30</td>\n",
       "      <td>13950.0</td>\n",
       "      <td>audi</td>\n",
       "      <td>1</td>\n",
       "      <td>0</td>\n",
       "      <td>3</td>\n",
       "      <td>1</td>\n",
       "      <td>2</td>\n",
       "      <td>5</td>\n",
       "      <td>1</td>\n",
       "    </tr>\n",
       "    <tr>\n",
       "      <th>4</th>\n",
       "      <td>5</td>\n",
       "      <td>2</td>\n",
       "      <td>audi 100ls</td>\n",
       "      <td>gas</td>\n",
       "      <td>std</td>\n",
       "      <td>4</td>\n",
       "      <td>sedan</td>\n",
       "      <td>4wd</td>\n",
       "      <td>99.4</td>\n",
       "      <td>176.6</td>\n",
       "      <td>...</td>\n",
       "      <td>22</td>\n",
       "      <td>17450.0</td>\n",
       "      <td>audi</td>\n",
       "      <td>1</td>\n",
       "      <td>0</td>\n",
       "      <td>3</td>\n",
       "      <td>0</td>\n",
       "      <td>2</td>\n",
       "      <td>5</td>\n",
       "      <td>1</td>\n",
       "    </tr>\n",
       "  </tbody>\n",
       "</table>\n",
       "<p>5 rows × 33 columns</p>\n",
       "</div>"
      ],
      "text/plain": [
       "   car_ID  symboling                   CarName fueltype aspiration  \\\n",
       "0       1          3        alfa-romero giulia      gas        std   \n",
       "1       2          3       alfa-romero stelvio      gas        std   \n",
       "2       3          1  alfa-romero Quadrifoglio      gas        std   \n",
       "3       4          2               audi 100 ls      gas        std   \n",
       "4       5          2                audi 100ls      gas        std   \n",
       "\n",
       "   doornumber      carbody drivewheel  wheelbase  carlength  ...  highwaympg  \\\n",
       "0           2  convertible        rwd       88.6      168.8  ...          27   \n",
       "1           2  convertible        rwd       88.6      168.8  ...          27   \n",
       "2           2    hatchback        rwd       94.5      171.2  ...          26   \n",
       "3           4        sedan        fwd       99.8      176.6  ...          30   \n",
       "4           4        sedan        4wd       99.4      176.6  ...          22   \n",
       "\n",
       "     price     carmaker enc_fueltype  enc_aspiration  enc_carbody  \\\n",
       "0  13495.0  alfa-romero            1               0            0   \n",
       "1  16500.0  alfa-romero            1               0            0   \n",
       "2  16500.0  alfa-romero            1               0            2   \n",
       "3  13950.0         audi            1               0            3   \n",
       "4  17450.0         audi            1               0            3   \n",
       "\n",
       "  enc_drivewheel  enc_enginetype  enc_fuelsystem  enc_carmaker  \n",
       "0              2               0               5             0  \n",
       "1              2               0               5             0  \n",
       "2              2               4               5             0  \n",
       "3              1               2               5             1  \n",
       "4              0               2               5             1  \n",
       "\n",
       "[5 rows x 33 columns]"
      ]
     },
     "execution_count": 144,
     "metadata": {},
     "output_type": "execute_result"
    }
   ],
   "source": [
    "df['enc_fueltype'] = encoder.fit_transform(df['fueltype'])\n",
    "df['enc_aspiration'] = encoder.fit_transform(df['aspiration'])\n",
    "df['enc_carbody'] = encoder.fit_transform(df['carbody'])\n",
    "df['enc_drivewheel'] = encoder.fit_transform(df['drivewheel'])\n",
    "df['enc_enginetype'] = encoder.fit_transform(df['enginetype'])\n",
    "df['enc_fuelsystem'] = encoder.fit_transform(df['fuelsystem'])\n",
    "df['enc_carmaker'] = encoder.fit_transform(df['carmaker'])\n",
    "df.head()"
   ]
  },
  {
   "cell_type": "code",
   "execution_count": 145,
   "id": "4e1e8cab",
   "metadata": {
    "scrolled": true
   },
   "outputs": [
    {
     "data": {
      "text/html": [
       "<div>\n",
       "<style scoped>\n",
       "    .dataframe tbody tr th:only-of-type {\n",
       "        vertical-align: middle;\n",
       "    }\n",
       "\n",
       "    .dataframe tbody tr th {\n",
       "        vertical-align: top;\n",
       "    }\n",
       "\n",
       "    .dataframe thead th {\n",
       "        text-align: right;\n",
       "    }\n",
       "</style>\n",
       "<table border=\"1\" class=\"dataframe\">\n",
       "  <thead>\n",
       "    <tr style=\"text-align: right;\">\n",
       "      <th></th>\n",
       "      <th>index</th>\n",
       "      <th>carlength</th>\n",
       "      <th>carwidth</th>\n",
       "      <th>curbweight</th>\n",
       "      <th>enginesize</th>\n",
       "      <th>horsepower</th>\n",
       "      <th>symboling</th>\n",
       "      <th>enc_carmaker</th>\n",
       "      <th>enc_aspiration</th>\n",
       "      <th>enc_carbody</th>\n",
       "      <th>enc_drivewheel</th>\n",
       "      <th>cylindernumber</th>\n",
       "      <th>carlength</th>\n",
       "      <th>price</th>\n",
       "    </tr>\n",
       "  </thead>\n",
       "  <tbody>\n",
       "    <tr>\n",
       "      <th>0</th>\n",
       "      <td>0</td>\n",
       "      <td>168.8</td>\n",
       "      <td>64.1</td>\n",
       "      <td>2548</td>\n",
       "      <td>130</td>\n",
       "      <td>111</td>\n",
       "      <td>3</td>\n",
       "      <td>0</td>\n",
       "      <td>0</td>\n",
       "      <td>0</td>\n",
       "      <td>2</td>\n",
       "      <td>4</td>\n",
       "      <td>168.8</td>\n",
       "      <td>13495.0</td>\n",
       "    </tr>\n",
       "    <tr>\n",
       "      <th>1</th>\n",
       "      <td>1</td>\n",
       "      <td>168.8</td>\n",
       "      <td>64.1</td>\n",
       "      <td>2548</td>\n",
       "      <td>130</td>\n",
       "      <td>111</td>\n",
       "      <td>3</td>\n",
       "      <td>0</td>\n",
       "      <td>0</td>\n",
       "      <td>0</td>\n",
       "      <td>2</td>\n",
       "      <td>4</td>\n",
       "      <td>168.8</td>\n",
       "      <td>16500.0</td>\n",
       "    </tr>\n",
       "    <tr>\n",
       "      <th>2</th>\n",
       "      <td>2</td>\n",
       "      <td>171.2</td>\n",
       "      <td>65.5</td>\n",
       "      <td>2823</td>\n",
       "      <td>152</td>\n",
       "      <td>154</td>\n",
       "      <td>1</td>\n",
       "      <td>0</td>\n",
       "      <td>0</td>\n",
       "      <td>2</td>\n",
       "      <td>2</td>\n",
       "      <td>6</td>\n",
       "      <td>171.2</td>\n",
       "      <td>16500.0</td>\n",
       "    </tr>\n",
       "    <tr>\n",
       "      <th>3</th>\n",
       "      <td>3</td>\n",
       "      <td>176.6</td>\n",
       "      <td>66.2</td>\n",
       "      <td>2337</td>\n",
       "      <td>109</td>\n",
       "      <td>102</td>\n",
       "      <td>2</td>\n",
       "      <td>1</td>\n",
       "      <td>0</td>\n",
       "      <td>3</td>\n",
       "      <td>1</td>\n",
       "      <td>4</td>\n",
       "      <td>176.6</td>\n",
       "      <td>13950.0</td>\n",
       "    </tr>\n",
       "    <tr>\n",
       "      <th>4</th>\n",
       "      <td>4</td>\n",
       "      <td>176.6</td>\n",
       "      <td>66.4</td>\n",
       "      <td>2824</td>\n",
       "      <td>136</td>\n",
       "      <td>115</td>\n",
       "      <td>2</td>\n",
       "      <td>1</td>\n",
       "      <td>0</td>\n",
       "      <td>3</td>\n",
       "      <td>0</td>\n",
       "      <td>5</td>\n",
       "      <td>176.6</td>\n",
       "      <td>17450.0</td>\n",
       "    </tr>\n",
       "  </tbody>\n",
       "</table>\n",
       "</div>"
      ],
      "text/plain": [
       "   index  carlength  carwidth  curbweight  enginesize  horsepower  symboling  \\\n",
       "0      0      168.8      64.1        2548         130         111          3   \n",
       "1      1      168.8      64.1        2548         130         111          3   \n",
       "2      2      171.2      65.5        2823         152         154          1   \n",
       "3      3      176.6      66.2        2337         109         102          2   \n",
       "4      4      176.6      66.4        2824         136         115          2   \n",
       "\n",
       "   enc_carmaker  enc_aspiration  enc_carbody  enc_drivewheel  cylindernumber  \\\n",
       "0             0               0            0               2               4   \n",
       "1             0               0            0               2               4   \n",
       "2             0               0            2               2               6   \n",
       "3             1               0            3               1               4   \n",
       "4             1               0            3               0               5   \n",
       "\n",
       "   carlength    price  \n",
       "0      168.8  13495.0  \n",
       "1      168.8  16500.0  \n",
       "2      171.2  16500.0  \n",
       "3      176.6  13950.0  \n",
       "4      176.6  17450.0  "
      ]
     },
     "execution_count": 145,
     "metadata": {},
     "output_type": "execute_result"
    }
   ],
   "source": [
    "df3= df[bien_tq]\n",
    "df3.reset_index(inplace=True)\n",
    "df3.head()"
   ]
  },
  {
   "cell_type": "raw",
   "id": "8d29e9d8",
   "metadata": {},
   "source": [
    "chuan hoa du lieu"
   ]
  },
  {
   "cell_type": "code",
   "execution_count": 146,
   "id": "996d1bc0",
   "metadata": {},
   "outputs": [
    {
     "data": {
      "text/html": [
       "<div>\n",
       "<style scoped>\n",
       "    .dataframe tbody tr th:only-of-type {\n",
       "        vertical-align: middle;\n",
       "    }\n",
       "\n",
       "    .dataframe tbody tr th {\n",
       "        vertical-align: top;\n",
       "    }\n",
       "\n",
       "    .dataframe thead th {\n",
       "        text-align: right;\n",
       "    }\n",
       "</style>\n",
       "<table border=\"1\" class=\"dataframe\">\n",
       "  <thead>\n",
       "    <tr style=\"text-align: right;\">\n",
       "      <th></th>\n",
       "      <th>horsepower</th>\n",
       "      <th>enginesize</th>\n",
       "      <th>carlength</th>\n",
       "      <th>carlength</th>\n",
       "      <th>curbweight</th>\n",
       "      <th>carwidth</th>\n",
       "      <th>price</th>\n",
       "    </tr>\n",
       "  </thead>\n",
       "  <tbody>\n",
       "    <tr>\n",
       "      <th>0</th>\n",
       "      <td>0.456720</td>\n",
       "      <td>0.432512</td>\n",
       "      <td>-0.353573</td>\n",
       "      <td>-0.353573</td>\n",
       "      <td>0.152836</td>\n",
       "      <td>-0.834337</td>\n",
       "      <td>0.400698</td>\n",
       "    </tr>\n",
       "    <tr>\n",
       "      <th>1</th>\n",
       "      <td>0.456720</td>\n",
       "      <td>0.432512</td>\n",
       "      <td>-0.353573</td>\n",
       "      <td>-0.353573</td>\n",
       "      <td>0.152836</td>\n",
       "      <td>-0.834337</td>\n",
       "      <td>1.007113</td>\n",
       "    </tr>\n",
       "    <tr>\n",
       "      <th>2</th>\n",
       "      <td>1.883098</td>\n",
       "      <td>1.253912</td>\n",
       "      <td>-0.142042</td>\n",
       "      <td>-0.142042</td>\n",
       "      <td>0.771208</td>\n",
       "      <td>-0.073509</td>\n",
       "      <td>1.007113</td>\n",
       "    </tr>\n",
       "    <tr>\n",
       "      <th>3</th>\n",
       "      <td>0.158176</td>\n",
       "      <td>-0.351551</td>\n",
       "      <td>0.333904</td>\n",
       "      <td>0.333904</td>\n",
       "      <td>-0.321625</td>\n",
       "      <td>0.306906</td>\n",
       "      <td>0.492518</td>\n",
       "    </tr>\n",
       "    <tr>\n",
       "      <th>4</th>\n",
       "      <td>0.589406</td>\n",
       "      <td>0.656530</td>\n",
       "      <td>0.333904</td>\n",
       "      <td>0.333904</td>\n",
       "      <td>0.773457</td>\n",
       "      <td>0.415595</td>\n",
       "      <td>1.198825</td>\n",
       "    </tr>\n",
       "    <tr>\n",
       "      <th>...</th>\n",
       "      <td>...</td>\n",
       "      <td>...</td>\n",
       "      <td>...</td>\n",
       "      <td>...</td>\n",
       "      <td>...</td>\n",
       "      <td>...</td>\n",
       "      <td>...</td>\n",
       "    </tr>\n",
       "    <tr>\n",
       "      <th>185</th>\n",
       "      <td>0.556235</td>\n",
       "      <td>0.843212</td>\n",
       "      <td>1.409189</td>\n",
       "      <td>1.409189</td>\n",
       "      <td>1.061281</td>\n",
       "      <td>1.774217</td>\n",
       "      <td>1.076735</td>\n",
       "    </tr>\n",
       "    <tr>\n",
       "      <th>186</th>\n",
       "      <td>2.082127</td>\n",
       "      <td>0.843212</td>\n",
       "      <td>1.409189</td>\n",
       "      <td>1.409189</td>\n",
       "      <td>1.279398</td>\n",
       "      <td>1.719872</td>\n",
       "      <td>1.520699</td>\n",
       "    </tr>\n",
       "    <tr>\n",
       "      <th>187</th>\n",
       "      <td>1.219666</td>\n",
       "      <td>2.037975</td>\n",
       "      <td>1.409189</td>\n",
       "      <td>1.409189</td>\n",
       "      <td>1.196199</td>\n",
       "      <td>1.774217</td>\n",
       "      <td>2.013096</td>\n",
       "    </tr>\n",
       "    <tr>\n",
       "      <th>188</th>\n",
       "      <td>0.290862</td>\n",
       "      <td>0.992557</td>\n",
       "      <td>1.409189</td>\n",
       "      <td>1.409189</td>\n",
       "      <td>1.657168</td>\n",
       "      <td>1.774217</td>\n",
       "      <td>2.211871</td>\n",
       "    </tr>\n",
       "    <tr>\n",
       "      <th>189</th>\n",
       "      <td>0.556235</td>\n",
       "      <td>0.843212</td>\n",
       "      <td>1.409189</td>\n",
       "      <td>1.409189</td>\n",
       "      <td>1.308630</td>\n",
       "      <td>1.774217</td>\n",
       "      <td>2.243150</td>\n",
       "    </tr>\n",
       "  </tbody>\n",
       "</table>\n",
       "<p>190 rows × 7 columns</p>\n",
       "</div>"
      ],
      "text/plain": [
       "     horsepower  enginesize  carlength  carlength  curbweight  carwidth  \\\n",
       "0      0.456720    0.432512  -0.353573  -0.353573    0.152836 -0.834337   \n",
       "1      0.456720    0.432512  -0.353573  -0.353573    0.152836 -0.834337   \n",
       "2      1.883098    1.253912  -0.142042  -0.142042    0.771208 -0.073509   \n",
       "3      0.158176   -0.351551   0.333904   0.333904   -0.321625  0.306906   \n",
       "4      0.589406    0.656530   0.333904   0.333904    0.773457  0.415595   \n",
       "..          ...         ...        ...        ...         ...       ...   \n",
       "185    0.556235    0.843212   1.409189   1.409189    1.061281  1.774217   \n",
       "186    2.082127    0.843212   1.409189   1.409189    1.279398  1.719872   \n",
       "187    1.219666    2.037975   1.409189   1.409189    1.196199  1.774217   \n",
       "188    0.290862    0.992557   1.409189   1.409189    1.657168  1.774217   \n",
       "189    0.556235    0.843212   1.409189   1.409189    1.308630  1.774217   \n",
       "\n",
       "        price  \n",
       "0    0.400698  \n",
       "1    1.007113  \n",
       "2    1.007113  \n",
       "3    0.492518  \n",
       "4    1.198825  \n",
       "..        ...  \n",
       "185  1.076735  \n",
       "186  1.520699  \n",
       "187  2.013096  \n",
       "188  2.211871  \n",
       "189  2.243150  \n",
       "\n",
       "[190 rows x 7 columns]"
      ]
     },
     "execution_count": 146,
     "metadata": {},
     "output_type": "execute_result"
    }
   ],
   "source": [
    "df4 = df3[['horsepower','enginesize','carlength','curbweight','carwidth','price']]\n",
    "s_scaler = StandardScaler()\n",
    "df4_s = s_scaler.fit_transform(df4)\n",
    "col_names = list(df4.columns)\n",
    "df4_s = pd.DataFrame(df4_s, columns=col_names)\n",
    "df4_s"
   ]
  },
  {
   "cell_type": "code",
   "execution_count": 147,
   "id": "ebe74c49",
   "metadata": {},
   "outputs": [
    {
     "data": {
      "text/html": [
       "<div>\n",
       "<style scoped>\n",
       "    .dataframe tbody tr th:only-of-type {\n",
       "        vertical-align: middle;\n",
       "    }\n",
       "\n",
       "    .dataframe tbody tr th {\n",
       "        vertical-align: top;\n",
       "    }\n",
       "\n",
       "    .dataframe thead th {\n",
       "        text-align: right;\n",
       "    }\n",
       "</style>\n",
       "<table border=\"1\" class=\"dataframe\">\n",
       "  <thead>\n",
       "    <tr style=\"text-align: right;\">\n",
       "      <th></th>\n",
       "      <th>horsepower</th>\n",
       "      <th>enginesize</th>\n",
       "      <th>carlength</th>\n",
       "      <th>carlength</th>\n",
       "      <th>curbweight</th>\n",
       "      <th>horsepower</th>\n",
       "      <th>symboling</th>\n",
       "      <th>enc_carmaker</th>\n",
       "      <th>enc_aspiration</th>\n",
       "      <th>enc_carbody</th>\n",
       "      <th>enc_drivewheel</th>\n",
       "      <th>carwidth</th>\n",
       "      <th>price</th>\n",
       "    </tr>\n",
       "  </thead>\n",
       "  <tbody>\n",
       "    <tr>\n",
       "      <th>0</th>\n",
       "      <td>0.456720</td>\n",
       "      <td>0.432512</td>\n",
       "      <td>-0.353573</td>\n",
       "      <td>-0.353573</td>\n",
       "      <td>0.152836</td>\n",
       "      <td>111</td>\n",
       "      <td>3</td>\n",
       "      <td>0</td>\n",
       "      <td>0</td>\n",
       "      <td>0</td>\n",
       "      <td>2</td>\n",
       "      <td>-0.834337</td>\n",
       "      <td>0.400698</td>\n",
       "    </tr>\n",
       "    <tr>\n",
       "      <th>1</th>\n",
       "      <td>0.456720</td>\n",
       "      <td>0.432512</td>\n",
       "      <td>-0.353573</td>\n",
       "      <td>-0.353573</td>\n",
       "      <td>0.152836</td>\n",
       "      <td>111</td>\n",
       "      <td>3</td>\n",
       "      <td>0</td>\n",
       "      <td>0</td>\n",
       "      <td>0</td>\n",
       "      <td>2</td>\n",
       "      <td>-0.834337</td>\n",
       "      <td>1.007113</td>\n",
       "    </tr>\n",
       "    <tr>\n",
       "      <th>2</th>\n",
       "      <td>1.883098</td>\n",
       "      <td>1.253912</td>\n",
       "      <td>-0.142042</td>\n",
       "      <td>-0.142042</td>\n",
       "      <td>0.771208</td>\n",
       "      <td>154</td>\n",
       "      <td>1</td>\n",
       "      <td>0</td>\n",
       "      <td>0</td>\n",
       "      <td>2</td>\n",
       "      <td>2</td>\n",
       "      <td>-0.073509</td>\n",
       "      <td>1.007113</td>\n",
       "    </tr>\n",
       "    <tr>\n",
       "      <th>3</th>\n",
       "      <td>0.158176</td>\n",
       "      <td>-0.351551</td>\n",
       "      <td>0.333904</td>\n",
       "      <td>0.333904</td>\n",
       "      <td>-0.321625</td>\n",
       "      <td>102</td>\n",
       "      <td>2</td>\n",
       "      <td>1</td>\n",
       "      <td>0</td>\n",
       "      <td>3</td>\n",
       "      <td>1</td>\n",
       "      <td>0.306906</td>\n",
       "      <td>0.492518</td>\n",
       "    </tr>\n",
       "    <tr>\n",
       "      <th>4</th>\n",
       "      <td>0.589406</td>\n",
       "      <td>0.656530</td>\n",
       "      <td>0.333904</td>\n",
       "      <td>0.333904</td>\n",
       "      <td>0.773457</td>\n",
       "      <td>115</td>\n",
       "      <td>2</td>\n",
       "      <td>1</td>\n",
       "      <td>0</td>\n",
       "      <td>3</td>\n",
       "      <td>0</td>\n",
       "      <td>0.415595</td>\n",
       "      <td>1.198825</td>\n",
       "    </tr>\n",
       "    <tr>\n",
       "      <th>...</th>\n",
       "      <td>...</td>\n",
       "      <td>...</td>\n",
       "      <td>...</td>\n",
       "      <td>...</td>\n",
       "      <td>...</td>\n",
       "      <td>...</td>\n",
       "      <td>...</td>\n",
       "      <td>...</td>\n",
       "      <td>...</td>\n",
       "      <td>...</td>\n",
       "      <td>...</td>\n",
       "      <td>...</td>\n",
       "      <td>...</td>\n",
       "    </tr>\n",
       "    <tr>\n",
       "      <th>185</th>\n",
       "      <td>0.556235</td>\n",
       "      <td>0.843212</td>\n",
       "      <td>1.409189</td>\n",
       "      <td>1.409189</td>\n",
       "      <td>1.061281</td>\n",
       "      <td>114</td>\n",
       "      <td>-1</td>\n",
       "      <td>20</td>\n",
       "      <td>0</td>\n",
       "      <td>3</td>\n",
       "      <td>2</td>\n",
       "      <td>1.774217</td>\n",
       "      <td>1.076735</td>\n",
       "    </tr>\n",
       "    <tr>\n",
       "      <th>186</th>\n",
       "      <td>2.082127</td>\n",
       "      <td>0.843212</td>\n",
       "      <td>1.409189</td>\n",
       "      <td>1.409189</td>\n",
       "      <td>1.279398</td>\n",
       "      <td>160</td>\n",
       "      <td>-1</td>\n",
       "      <td>20</td>\n",
       "      <td>1</td>\n",
       "      <td>3</td>\n",
       "      <td>2</td>\n",
       "      <td>1.719872</td>\n",
       "      <td>1.520699</td>\n",
       "    </tr>\n",
       "    <tr>\n",
       "      <th>187</th>\n",
       "      <td>1.219666</td>\n",
       "      <td>2.037975</td>\n",
       "      <td>1.409189</td>\n",
       "      <td>1.409189</td>\n",
       "      <td>1.196199</td>\n",
       "      <td>134</td>\n",
       "      <td>-1</td>\n",
       "      <td>20</td>\n",
       "      <td>0</td>\n",
       "      <td>3</td>\n",
       "      <td>2</td>\n",
       "      <td>1.774217</td>\n",
       "      <td>2.013096</td>\n",
       "    </tr>\n",
       "    <tr>\n",
       "      <th>188</th>\n",
       "      <td>0.290862</td>\n",
       "      <td>0.992557</td>\n",
       "      <td>1.409189</td>\n",
       "      <td>1.409189</td>\n",
       "      <td>1.657168</td>\n",
       "      <td>106</td>\n",
       "      <td>-1</td>\n",
       "      <td>20</td>\n",
       "      <td>1</td>\n",
       "      <td>3</td>\n",
       "      <td>2</td>\n",
       "      <td>1.774217</td>\n",
       "      <td>2.211871</td>\n",
       "    </tr>\n",
       "    <tr>\n",
       "      <th>189</th>\n",
       "      <td>0.556235</td>\n",
       "      <td>0.843212</td>\n",
       "      <td>1.409189</td>\n",
       "      <td>1.409189</td>\n",
       "      <td>1.308630</td>\n",
       "      <td>114</td>\n",
       "      <td>-1</td>\n",
       "      <td>20</td>\n",
       "      <td>1</td>\n",
       "      <td>3</td>\n",
       "      <td>2</td>\n",
       "      <td>1.774217</td>\n",
       "      <td>2.243150</td>\n",
       "    </tr>\n",
       "  </tbody>\n",
       "</table>\n",
       "<p>190 rows × 13 columns</p>\n",
       "</div>"
      ],
      "text/plain": [
       "     horsepower  enginesize  carlength  carlength  curbweight  horsepower  \\\n",
       "0      0.456720    0.432512  -0.353573  -0.353573    0.152836         111   \n",
       "1      0.456720    0.432512  -0.353573  -0.353573    0.152836         111   \n",
       "2      1.883098    1.253912  -0.142042  -0.142042    0.771208         154   \n",
       "3      0.158176   -0.351551   0.333904   0.333904   -0.321625         102   \n",
       "4      0.589406    0.656530   0.333904   0.333904    0.773457         115   \n",
       "..          ...         ...        ...        ...         ...         ...   \n",
       "185    0.556235    0.843212   1.409189   1.409189    1.061281         114   \n",
       "186    2.082127    0.843212   1.409189   1.409189    1.279398         160   \n",
       "187    1.219666    2.037975   1.409189   1.409189    1.196199         134   \n",
       "188    0.290862    0.992557   1.409189   1.409189    1.657168         106   \n",
       "189    0.556235    0.843212   1.409189   1.409189    1.308630         114   \n",
       "\n",
       "     symboling  enc_carmaker  enc_aspiration  enc_carbody  enc_drivewheel  \\\n",
       "0            3             0               0            0               2   \n",
       "1            3             0               0            0               2   \n",
       "2            1             0               0            2               2   \n",
       "3            2             1               0            3               1   \n",
       "4            2             1               0            3               0   \n",
       "..         ...           ...             ...          ...             ...   \n",
       "185         -1            20               0            3               2   \n",
       "186         -1            20               1            3               2   \n",
       "187         -1            20               0            3               2   \n",
       "188         -1            20               1            3               2   \n",
       "189         -1            20               1            3               2   \n",
       "\n",
       "     carwidth     price  \n",
       "0   -0.834337  0.400698  \n",
       "1   -0.834337  1.007113  \n",
       "2   -0.073509  1.007113  \n",
       "3    0.306906  0.492518  \n",
       "4    0.415595  1.198825  \n",
       "..        ...       ...  \n",
       "185  1.774217  1.076735  \n",
       "186  1.719872  1.520699  \n",
       "187  1.774217  2.013096  \n",
       "188  1.774217  2.211871  \n",
       "189  1.774217  2.243150  \n",
       "\n",
       "[190 rows x 13 columns]"
      ]
     },
     "execution_count": 147,
     "metadata": {},
     "output_type": "execute_result"
    }
   ],
   "source": [
    "final = pd.concat([df4_s.iloc[:,:5],df3.iloc[:,5:11],df4_s.iloc[:,5:]],axis=1)\n",
    "final"
   ]
  },
  {
   "cell_type": "code",
   "execution_count": 148,
   "id": "9d4d1daf",
   "metadata": {},
   "outputs": [],
   "source": [
    "# mô hình hồi quy tuyến tính 8:2\n",
    "y = final.price.values.reshape(-1,1)\n",
    "X = final.iloc[:,0:11].values.reshape(-1,11)\n",
    "X_train, X_test, y_train, y_test = train_test_split(X, y, test_size=0.2, random_state=0)"
   ]
  },
  {
   "cell_type": "code",
   "execution_count": 149,
   "id": "cf9069fe",
   "metadata": {},
   "outputs": [],
   "source": [
    "bien_tq.remove(\"price\")"
   ]
  },
  {
   "cell_type": "code",
   "execution_count": 157,
   "id": "a19b2abc",
   "metadata": {},
   "outputs": [],
   "source": [
    "temp = bien_tq"
   ]
  },
  {
   "cell_type": "code",
   "execution_count": 158,
   "id": "03008a0a",
   "metadata": {},
   "outputs": [
    {
     "data": {
      "text/plain": [
       "['carlength',\n",
       " 'carwidth',\n",
       " 'curbweight',\n",
       " 'enginesize',\n",
       " 'horsepower',\n",
       " 'symboling',\n",
       " 'enc_carmaker',\n",
       " 'enc_aspiration',\n",
       " 'enc_carbody',\n",
       " 'enc_drivewheel',\n",
       " 'cylindernumber',\n",
       " 'carlength']"
      ]
     },
     "execution_count": 158,
     "metadata": {},
     "output_type": "execute_result"
    }
   ],
   "source": [
    "temp"
   ]
  },
  {
   "cell_type": "code",
   "execution_count": 159,
   "id": "615e3405",
   "metadata": {},
   "outputs": [
    {
     "data": {
      "text/plain": [
       "LinearRegression()"
      ]
     },
     "execution_count": 159,
     "metadata": {},
     "output_type": "execute_result"
    }
   ],
   "source": [
    "regressor80 = LinearRegression()\n",
    "regressor80.fit(X_train, y_train)"
   ]
  },
  {
   "cell_type": "code",
   "execution_count": 160,
   "id": "8bce592e",
   "metadata": {},
   "outputs": [
    {
     "data": {
      "text/plain": [
       "array([-0.63712673])"
      ]
     },
     "execution_count": 160,
     "metadata": {},
     "output_type": "execute_result"
    }
   ],
   "source": [
    "regressor80.intercept_"
   ]
  },
  {
   "cell_type": "code",
   "execution_count": 161,
   "id": "ada9caee",
   "metadata": {},
   "outputs": [
    {
     "data": {
      "text/plain": [
       "array([[ 2.23552318e-04, -5.17835647e-03,  6.16312066e-02,\n",
       "         6.16312066e-02,  4.77538604e-01,  6.73927375e-03,\n",
       "         1.05735462e-02, -2.95512227e-02,  2.51075481e-01,\n",
       "        -2.59190795e-02,  2.69905363e-01]])"
      ]
     },
     "execution_count": 161,
     "metadata": {},
     "output_type": "execute_result"
    }
   ],
   "source": [
    "regressor80.coef_"
   ]
  },
  {
   "cell_type": "code",
   "execution_count": 162,
   "id": "9c7863da",
   "metadata": {},
   "outputs": [
    {
     "name": "stdout",
     "output_type": "stream",
     "text": [
      "80%: \n",
      " y = -0.6371267303645146+ 0.0002235523178016527 * carlength\n",
      "\t\t\t+ -0.0051783564706978265 * carwidth\n",
      "\t\t\t+ 0.0616312066110411 * curbweight\n",
      "\t\t\t+ 0.06163120661104134 * enginesize\n",
      "\t\t\t+ 0.47753860379071233 * horsepower\n",
      "\t\t\t+ 0.00673927375161738 * symboling\n",
      "\t\t\t+ 0.010573546186462621 * enc_carmaker\n",
      "\t\t\t+ -0.029551222739248366 * enc_aspiration\n",
      "\t\t\t+ 0.25107548109713246 * enc_carbody\n",
      "\t\t\t+ -0.025919079508632464 * enc_drivewheel\n",
      "\t\t\t+ 0.26990536300851636 * cylindernumber\n"
     ]
    }
   ],
   "source": [
    "print(f'80%: \\n y = {regressor80.intercept_[0]}+ {regressor80.coef_[0][0]} * {temp[0]}\\n\\t\\t\\t+ {regressor80.coef_[0][1]} * {temp[1]}\\n\\t\\t\\t+ {regressor80.coef_[0][2]} * {temp[2]}\\n\\t\\t\\t+ {regressor80.coef_[0][3]} * {temp[3]}\\n\\t\\t\\t+ {regressor80.coef_[0][4]} * {temp[4]}\\n\\t\\t\\t+ {regressor80.coef_[0][5]} * {temp[5]}\\n\\t\\t\\t+ {regressor80.coef_[0][6]} * {temp[6]}\\n\\t\\t\\t+ {regressor80.coef_[0][7]} * {temp[7]}\\n\\t\\t\\t+ {regressor80.coef_[0][8]} * {temp[8]}\\n\\t\\t\\t+ {regressor80.coef_[0][9]} * {temp[9]}\\n\\t\\t\\t+ {regressor80.coef_[0][10]} * {temp[10]}')"
   ]
  },
  {
   "cell_type": "code",
   "execution_count": 163,
   "id": "ea0dc415",
   "metadata": {},
   "outputs": [
    {
     "data": {
      "text/plain": [
       "LinearRegression()"
      ]
     },
     "execution_count": 163,
     "metadata": {},
     "output_type": "execute_result"
    }
   ],
   "source": [
    "regressor20 = LinearRegression()\n",
    "regressor20.fit(X_test, y_test)"
   ]
  },
  {
   "cell_type": "code",
   "execution_count": 164,
   "id": "d5f53f6d",
   "metadata": {},
   "outputs": [
    {
     "data": {
      "text/plain": [
       "array([0.78201957])"
      ]
     },
     "execution_count": 164,
     "metadata": {},
     "output_type": "execute_result"
    }
   ],
   "source": [
    "regressor20.intercept_"
   ]
  },
  {
   "cell_type": "code",
   "execution_count": 165,
   "id": "b0a67451",
   "metadata": {},
   "outputs": [
    {
     "data": {
      "text/plain": [
       "array([[ 9.47951368e-05,  4.79021691e-02, -3.32877197e-02,\n",
       "        -3.32877197e-02,  9.95639742e-01,  2.85772200e-03,\n",
       "        -1.68365778e-01, -3.76966044e-02, -3.27806672e-01,\n",
       "        -1.61011221e-01,  4.99415274e-03]])"
      ]
     },
     "execution_count": 165,
     "metadata": {},
     "output_type": "execute_result"
    }
   ],
   "source": [
    "regressor20.coef_"
   ]
  },
  {
   "cell_type": "code",
   "execution_count": 166,
   "id": "be7f8e29",
   "metadata": {},
   "outputs": [
    {
     "name": "stdout",
     "output_type": "stream",
     "text": [
      "20%: \n",
      " y = 0.7820195681845082+ 9.479513679159375e-05 * carlength\n",
      "\t\t\t+ 0.04790216906364304 * carwidth\n",
      "\t\t\t+ -0.033287719671661914 * curbweight\n",
      "\t\t\t+ -0.03328771967166146 * enginesize\n",
      "\t\t\t+ 0.9956397422369145 * horsepower\n",
      "\t\t\t+ 0.002857722001923287 * symboling\n",
      "\t\t\t+ -0.1683657776683414 * enc_carmaker\n",
      "\t\t\t+ -0.03769660441928457 * enc_aspiration\n",
      "\t\t\t+ -0.3278066720234668 * enc_carbody\n",
      "\t\t\t+ -0.16101122054163672 * enc_drivewheel\n",
      "\t\t\t+ 0.004994152737695668 * cylindernumber\n"
     ]
    }
   ],
   "source": [
    "print(f'20%: \\n y = {regressor20.intercept_[0]}+ {regressor20.coef_[0][0]} * {temp[0]}\\n\\t\\t\\t+ {regressor20.coef_[0][1]} * {temp[1]}\\n\\t\\t\\t+ {regressor20.coef_[0][2]} * {temp[2]}\\n\\t\\t\\t+ {regressor20.coef_[0][3]} * {temp[3]}\\n\\t\\t\\t+ {regressor20.coef_[0][4]} * {temp[4]}\\n\\t\\t\\t+ {regressor20.coef_[0][5]} * {temp[5]}\\n\\t\\t\\t+ {regressor20.coef_[0][6]} * {temp[6]}\\n\\t\\t\\t+ {regressor20.coef_[0][7]} * {temp[7]}\\n\\t\\t\\t+ {regressor20.coef_[0][8]} * {temp[8]}\\n\\t\\t\\t+ {regressor20.coef_[0][9]} * {temp[9]}\\n\\t\\t\\t+ {regressor20.coef_[0][10]} * {temp[10]}')"
   ]
  },
  {
   "cell_type": "code",
   "execution_count": null,
   "id": "2cabfff9",
   "metadata": {},
   "outputs": [],
   "source": []
  },
  {
   "cell_type": "code",
   "execution_count": null,
   "id": "3802f174",
   "metadata": {},
   "outputs": [],
   "source": []
  },
  {
   "cell_type": "code",
   "execution_count": null,
   "id": "4e3785a6",
   "metadata": {},
   "outputs": [],
   "source": []
  },
  {
   "cell_type": "code",
   "execution_count": null,
   "id": "f90d3915",
   "metadata": {},
   "outputs": [],
   "source": []
  },
  {
   "cell_type": "code",
   "execution_count": null,
   "id": "23ebacab",
   "metadata": {},
   "outputs": [],
   "source": []
  },
  {
   "cell_type": "code",
   "execution_count": null,
   "id": "fd7b9cdc",
   "metadata": {},
   "outputs": [],
   "source": []
  },
  {
   "cell_type": "code",
   "execution_count": null,
   "id": "5447c1e3",
   "metadata": {},
   "outputs": [],
   "source": []
  },
  {
   "cell_type": "code",
   "execution_count": null,
   "id": "8546b3db",
   "metadata": {},
   "outputs": [],
   "source": []
  },
  {
   "cell_type": "code",
   "execution_count": null,
   "id": "c70d1344",
   "metadata": {},
   "outputs": [],
   "source": []
  },
  {
   "cell_type": "code",
   "execution_count": null,
   "id": "eacfd991",
   "metadata": {},
   "outputs": [],
   "source": []
  },
  {
   "cell_type": "code",
   "execution_count": null,
   "id": "e843759f",
   "metadata": {},
   "outputs": [],
   "source": []
  },
  {
   "cell_type": "code",
   "execution_count": null,
   "id": "d0d77b4b",
   "metadata": {},
   "outputs": [],
   "source": []
  },
  {
   "cell_type": "code",
   "execution_count": null,
   "id": "28b06cbe",
   "metadata": {},
   "outputs": [],
   "source": []
  },
  {
   "cell_type": "code",
   "execution_count": null,
   "id": "0ed8ca65",
   "metadata": {},
   "outputs": [],
   "source": []
  },
  {
   "cell_type": "code",
   "execution_count": null,
   "id": "563168dc",
   "metadata": {},
   "outputs": [],
   "source": []
  }
 ],
 "metadata": {
  "kernelspec": {
   "display_name": "Python 3 (ipykernel)",
   "language": "python",
   "name": "python3"
  },
  "language_info": {
   "codemirror_mode": {
    "name": "ipython",
    "version": 3
   },
   "file_extension": ".py",
   "mimetype": "text/x-python",
   "name": "python",
   "nbconvert_exporter": "python",
   "pygments_lexer": "ipython3",
   "version": "3.9.12"
  }
 },
 "nbformat": 4,
 "nbformat_minor": 5
}
